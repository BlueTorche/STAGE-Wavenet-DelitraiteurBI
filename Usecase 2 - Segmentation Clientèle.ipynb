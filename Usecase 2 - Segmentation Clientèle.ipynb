{
 "cells": [
  {
   "cell_type": "code",
   "execution_count": 1,
   "id": "6757b3e2",
   "metadata": {},
   "outputs": [],
   "source": [
    "import urllib\n",
    "from sqlalchemy import create_engine\n",
    "\n",
    "import pandas as pd\n",
    "import matplotlib.pyplot as plt\n",
    "from datetime import date, timedelta\n",
    "from time import time\n",
    "\n",
    "from sklearn.cluster import KMeans\n",
    "from matplotlib import pyplot as plt\n",
    "\n",
    "Very_Start = time()"
   ]
  },
  {
   "cell_type": "markdown",
   "id": "796c30de",
   "metadata": {},
   "source": [
    "### DEFINITION DE TOUS LES PARAMETRES"
   ]
  },
  {
   "cell_type": "code",
   "execution_count": 2,
   "id": "1535cf37",
   "metadata": {},
   "outputs": [],
   "source": [
    "# @param Does it save the figure ?\n",
    "save_fig    = True\n",
    "save_folder = 'UC2_fig'\n",
    "\n",
    "# @param Connexion à la DB\n",
    "driver   = '{ODBC Driver 17 for SQL Server}'\n",
    "server   = 'E5591-9S6YMV2'\n",
    "username = 'WVN\\k.dubrulle'\n",
    "login    = ('DRIVER=' + driver + \n",
    "         ';SERVER='   + server + \n",
    "         ';Trusted_Connection=yes;')\n",
    "\n",
    "\n",
    "# @param Definition des table et colonnes --> Dépendent de la DB\n",
    "DB             = \"Archive2018_2019_prod\"\n",
    "TABLE_CONSO    = \"Consommateur\"\n",
    "TABLE_ENTETE   = \"Recette_entete_ticket\"\n",
    "TEMPS_ENTETE   = TABLE_ENTETE             + \".TEMPS.KEY_Date_reel_de_la_transaction\"\n",
    "NUMERO_ENTETE  = TABLE_ENTETE             + \".Numero_ticket\"\n",
    "TABLE_DETAIL   = \"Recette_detail_ticket\"\n",
    "TEMPS_DETAIL   = TABLE_DETAIL             + \".TEMPS.KEY_Date_reel_transaction\"\n",
    "NUMERO_DETAIL  = TABLE_DETAIL             + \".Numero_ticket\"\n",
    "TABLE_ARTICLE  = \"Article_meti_HIST\"\n",
    "TABLE_UNIVERS  = \"Univers\"\n",
    "\n",
    "Univers_Depth  = 3            # Jusqu'où on ira dans l'univers ? = [1;4]\n",
    "\n",
    "# @param Variable influançant la sélection des données\n",
    "nbr_client     = -1           # Nombre de clients à sélectionner. MAX = 148188. -1 --> ALL\n",
    "client_tresh   = 20           # Nombre d'article que le client doit avoir acheter pour être mis dans un segment\n",
    "univers_tresh  = 20           # Nombre d'article acheté de l'univers pour qu'il soit pris en compte\n",
    "\n",
    "# @param Sur la normalization des données\n",
    "Standard_Norm  = False        # Défini si on utilise la Normalization Standard\n",
    "Standard_Tresh = 1            # Seuil d'acceptabilité des cluster en normalization standard\n",
    "MinMax_Norm    = False        # Défini si on utilise la Normalization Minmax\n",
    "MinMax_Tesh    = .3           # Seuil d'acceptabilité des cluster par défaut\n",
    "\n",
    "# @param Sur le modèle KMean\n",
    "K              = 21           # Nombre de segment. K = 21 -> 10% client d'exclu ; K = 15 -> 15% client exclu ; K = 9 -> 20% exclu \n",
    "n_init         = 50           # Nombre de run du KMean pour trouver le meilleur min\n",
    "\n",
    "# @param Sur l'analyse des données\n",
    "do_Elbow       = False         # Est-ce qu'on fait l'analyse des Elbow ou pas ?\n",
    "Kmin           = 5            # Nombre de cluster au début de l'analyse\n",
    "Kmax           = 30           # Nombre de cluster à la fin de l'analyse"
   ]
  },
  {
   "cell_type": "code",
   "execution_count": 3,
   "id": "92a148cf",
   "metadata": {},
   "outputs": [
    {
     "name": "stdout",
     "output_type": "stream",
     "text": [
      "   Consommateur.KEY\n",
      "0                -1\n",
      "1                 1\n",
      "2                 2\n",
      "3                 3\n",
      "4                 4\n",
      "5                 5\n",
      "6                 6\n",
      "7                 7\n",
      "8                 8\n",
      "9                 9\n"
     ]
    }
   ],
   "source": [
    "# TEST Connexion\n",
    "params = urllib.parse.quote_plus(login)\n",
    "engine = create_engine(\"mssql+pyodbc:///?odbc_connect=%s\" % params)\n",
    "\n",
    "conn = engine.connect()\n",
    "\n",
    "df = pd.read_sql(\"SELECT TOP(10) [\"+TABLE_CONSO+\".KEY] FROM [\"+DB+\"].[DWH].[Dim_\"+TABLE_CONSO+\"]\", conn)\n",
    "print(df)\n",
    "\n",
    "conn.close()"
   ]
  },
  {
   "cell_type": "markdown",
   "id": "d1612969",
   "metadata": {},
   "source": [
    "# SEGMENTATION DE LA CLIENTELE"
   ]
  },
  {
   "cell_type": "markdown",
   "id": "1269884f",
   "metadata": {},
   "source": [
    "## Récupération des données correspondant aux clients"
   ]
  },
  {
   "cell_type": "code",
   "execution_count": 103,
   "id": "c657f637",
   "metadata": {},
   "outputs": [
    {
     "name": "stdout",
     "output_type": "stream",
     "text": [
      "SELECT [Article_meti_HIST.Univers.KEY] AS Univers\n",
      ",[Recette_entete_ticket.Consommateur.KEY] AS Consommateur\n",
      "FROM [Archive2018_2019_prod].[DWH].[Fact_Recette_detail_ticket]\n",
      "INNER JOIN [Archive2018_2019_prod].[DWH].[Fact_Recette_entete_ticket] \n",
      "ON    [Recette_detail_ticket.TEMPS.KEY_Date_reel_transaction] = [Recette_entete_ticket.TEMPS.KEY_Date_reel_de_la_transaction] \n",
      "AND   [Recette_detail_ticket.Numero_ticket] = [Recette_entete_ticket.Numero_ticket]\n",
      "INNER JOIN [Archive2018_2019_prod].[DWH].[Dim_Article_meti_HIST]\n",
      "ON [Recette_detail_ticket.Article_meti_HIST.KEY] = [Article_meti_HIST.KEY] \n",
      "WHERE [Recette_entete_ticket.Consommateur.KEY] > 0 \n"
     ]
    },
    {
     "name": "stderr",
     "output_type": "stream",
     "text": [
      "C:\\ProgramData\\Anaconda3\\lib\\site-packages\\pandas\\io\\sql.py:761: UserWarning: pandas only support SQLAlchemy connectable(engine/connection) ordatabase string URI or sqlite3 DBAPI2 connectionother DBAPI2 objects are not tested, please consider using SQLAlchemy\n",
      "  warnings.warn(\n"
     ]
    },
    {
     "name": "stdout",
     "output_type": "stream",
     "text": [
      "Time Taken to load DB: ~175secondes\n",
      "10836528\n"
     ]
    }
   ],
   "source": [
    "start = time()\n",
    "\n",
    "sql_command = '''SELECT [''' + TABLE_ARTICLE + '''.''' + TABLE_UNIVERS + '''.KEY] AS ''' + TABLE_UNIVERS + '''\n",
    ",[''' + TABLE_ENTETE + '''.''' + TABLE_CONSO + '''.KEY] AS ''' + TABLE_CONSO + '''\n",
    "FROM ['''       + DB + '''].[DWH].[Fact_''' + TABLE_DETAIL + ''']\n",
    "INNER JOIN [''' + DB + '''].[DWH].[Fact_''' + TABLE_ENTETE + '''] \n",
    "ON    [''' + TEMPS_DETAIL  +'''] = [''' + TEMPS_ENTETE  + '''] \n",
    "AND   [''' + NUMERO_DETAIL +'''] = [''' + NUMERO_ENTETE + ''']\n",
    "INNER JOIN [''' + DB + '''].[DWH].[Dim_'''  + TABLE_ARTICLE + ''']\n",
    "ON ['''    + TABLE_DETAIL  + '''.'''    + TABLE_ARTICLE + '''.KEY] = [''' + TABLE_ARTICLE + '''.KEY] \n",
    "WHERE [''' + TABLE_ENTETE  + '''.'''    + TABLE_CONSO   + '''.KEY] > 0 '''\n",
    "if nbr_client != -1:\n",
    "    sql_command +=  ''' AND [''' + TABLE_ENTETE  +'''.'''     + TABLE_CONSO   + '''.KEY] < '''  + str(nbr_client)\n",
    "\n",
    "print(sql_command)\n",
    "\n",
    "conn = engine.connect()\n",
    "df_univers = pd.read_sql(sql_command, conn)\n",
    "conn.close()\n",
    "\n",
    "# environ 3min\n",
    "print(\"Time Taken to load DB: ~\" + str(int(time() - start)) + \"secondes\") \n",
    "nbr_data = len(df_univers)\n",
    "print(nbr_data)"
   ]
  },
  {
   "cell_type": "code",
   "execution_count": 104,
   "id": "661a2848",
   "metadata": {},
   "outputs": [
    {
     "name": "stdout",
     "output_type": "stream",
     "text": [
      "SELECT [Univers.KEY] AS Univ_KEY,\n",
      "    [Univers.Libelle_univers1_FR] AS Univ_1, \n",
      "    [Univers.Libelle_univers2_FR] AS Univ_2, \n",
      "    [Univers.Libelle_univers3_FR] AS Univ_3, \n",
      "    [Univers.Libelle_univers4_FR] AS Univ_4\n",
      "    FROM [Archive2018_2019_prod].[DWH].[Dim_Univers]\n",
      "Time Taken to load DB: ~0secondes\n",
      "     Univ_KEY                      Univ_1                  Univ_2  \\\n",
      "0          -1                           ?                       ?   \n",
      "1           1               PRET A MANGER  SERVICE TRAITEUR FROID   \n",
      "2           2               PRET A MANGER            MEUBLE CHAUD   \n",
      "3           3               PRET A MANGER            MEUBLE CHAUD   \n",
      "4           4               PRET A MANGER            MEUBLE CHAUD   \n",
      "..        ...                         ...                     ...   \n",
      "485       485               PRET A MANGER                 SALADES   \n",
      "486       486               PRET A MANGER                 SALADES   \n",
      "487       487  APERITIF   ENTREES   TAPAS                   TAPAS   \n",
      "488       488  APERITIF   ENTREES   TAPAS                   TAPAS   \n",
      "489       490                 REPRISE SSP             REPRISE SSP   \n",
      "\n",
      "                      Univ_3                   Univ_4  \n",
      "0                          ?                        ?  \n",
      "1        PLATEAUX SANDWICHES                    WRAPS  \n",
      "2                     PIZZAS                   PIZZAS  \n",
      "3                     PIZZAS                   PIZZAS  \n",
      "4                     PIZZAS   TARTES LEGUMES CHAUDES  \n",
      "..                       ...                      ...  \n",
      "485  LEGUMES ET LEGUMINEUSES  LEGUMES ET LEGUMINEUSES  \n",
      "486                   AUTRES                   AUTRES  \n",
      "487         DIPS   TAPENADES     DIPS TAPENADES FRAIS  \n",
      "488         DIPS   TAPENADES       DIPS TAPENADES SEC  \n",
      "489              REPRISE SSP              REPRISE SSP  \n",
      "\n",
      "[490 rows x 5 columns]\n"
     ]
    },
    {
     "name": "stderr",
     "output_type": "stream",
     "text": [
      "C:\\ProgramData\\Anaconda3\\lib\\site-packages\\pandas\\io\\sql.py:761: UserWarning: pandas only support SQLAlchemy connectable(engine/connection) ordatabase string URI or sqlite3 DBAPI2 connectionother DBAPI2 objects are not tested, please consider using SQLAlchemy\n",
      "  warnings.warn(\n"
     ]
    }
   ],
   "source": [
    "start = time()\n",
    "\n",
    "sql_command = '''SELECT [''' + TABLE_UNIVERS  + '''.KEY],\n",
    "    [''' + TABLE_UNIVERS  + '''.Libelle_univers1_FR], \n",
    "    [''' + TABLE_UNIVERS  + '''.Libelle_univers2_FR], \n",
    "    [''' + TABLE_UNIVERS  + '''.Libelle_univers3_FR], \n",
    "    [''' + TABLE_UNIVERS  + '''.Libelle_univers4_FR]\n",
    "    FROM ['''+DB+'''].[DWH].[Dim_'''+TABLE_UNIVERS+''']'''\n",
    "print(sql_command)\n",
    "\n",
    "conn = engine.connect()\n",
    "df_my_univers = pd.read_sql(sql_command, conn)\n",
    "conn.close()\n",
    "\n",
    "# environ 0s\n",
    "print(\"Time Taken to load DB: ~\" + str(int(time() - start)) + \"secondes\") \n",
    "print(df_my_univers)"
   ]
  },
  {
   "cell_type": "code",
   "execution_count": 105,
   "id": "5fe4aeba",
   "metadata": {
    "scrolled": true
   },
   "outputs": [
    {
     "name": "stdout",
     "output_type": "stream",
     "text": [
      "{428: 1, 429: 1, 3: 2, 4: 2, 5: 2, 8: 7, 28: 27, 32: 31, 39: 38, 40: 38, 42: 41, 43: 41, 44: 41, 46: 45, 47: 45, 48: 45, 49: 45, 50: 45, 462: 51, 475: 51, 62: 61, 63: 61, 71: 70, 72: 70, 73: 70, 89: 88, 90: 88, 91: 88, 93: 92, 456: 125, 463: 125, 464: 125, 465: 125, 466: 125, 467: 125, 468: 125, 130: 129, 137: 136, 139: 138, 140: 138, 181: 180, 182: 180, 183: 180, 184: 180, 185: 180, 186: 180, 187: 180, 469: 213, 476: 213, 216: 215, 218: 217, 225: 224, 227: 226, 457: 228, 458: 228, 459: 228, 470: 228, 477: 228, 471: 229, 472: 229, 245: 244, 246: 244, 247: 244, 248: 244, 249: 244, 250: 244, 251: 244, 252: 244, 253: 244, 254: 244, 255: 244, 256: 244, 281: 280, 282: 280, 283: 280, 454: 322, 473: 322, 461: 325, 474: 325, 487: 327, 488: 327, 345: 344, 347: 346, 349: 348, 350: 348, 351: 348, 352: 348, 353: 348, 354: 348, 356: 355, 357: 355, 358: 355, 359: 355, 360: 355, 361: 355, 363: 362, 364: 362, 390: 362, 391: 362, 393: 392, 394: 392, 395: 392, 396: 392, 397: 392, 398: 392, 399: 392, 400: 392, 401: 392, 404: 403, 406: 405, 409: 408, 415: 414, 417: 416, 418: 416, 419: 416, 420: 416, 425: 424, 445: 424, 427: 426, 440: 432, 434: 433, 441: 435, 443: 442}\n"
     ]
    }
   ],
   "source": [
    "univers_correspondance = {}\n",
    "deleted = set()\n",
    "for item in df_my_univers.values:\n",
    "    if item[0] in deleted:\n",
    "        continue\n",
    "    for cor in df_my_univers.values: \n",
    "        if item[0] != cor[0]:\n",
    "            if (\n",
    "                item[1] == cor[1] and\n",
    "                (item[2] == cor[2] or Univers_Depth < 2) and\n",
    "                (item[3] == cor[3] or Univers_Depth < 3) and\n",
    "                (item[4] == cor[4] or Univers_Depth < 4)\n",
    "            ):\n",
    "                univers_correspondance[cor[0]] = item[0]\n",
    "                deleted.add(cor[0])\n",
    "print(univers_correspondance)"
   ]
  },
  {
   "cell_type": "code",
   "execution_count": 106,
   "id": "20fba9dd",
   "metadata": {},
   "outputs": [
    {
     "name": "stdout",
     "output_type": "stream",
     "text": [
      "             196       299       211       19        180       61        228  \\\n",
      "54086   0.043478  1.000000  0.500000  0.065217  0.130435  0.043478  0.065217   \n",
      "32784   0.025641  0.025641  0.025641  0.000000  0.256410  0.000000  0.102564   \n",
      "98450   0.000000  0.434783  0.043478  0.000000  0.086957  0.000000  0.391304   \n",
      "84764   0.000000  0.276543  0.024691  0.004938  0.049383  0.034568  0.128395   \n",
      "74979   0.000000  0.042389  0.125241  0.000000  0.146435  0.009634  0.040462   \n",
      "...          ...       ...       ...       ...       ...       ...       ...   \n",
      "145648  0.000000  1.000000  0.000000  0.000000  0.000000  0.000000  0.000000   \n",
      "143493  0.000000  0.333333  0.000000  0.000000  0.000000  0.000000  0.000000   \n",
      "87061   0.000000  0.000000  0.166667  0.000000  0.166667  0.000000  0.000000   \n",
      "148172  0.000000  0.000000  0.000000  0.000000  0.000000  0.500000  0.000000   \n",
      "147671  0.000000  0.000000  0.000000  0.000000  1.000000  0.000000  0.000000   \n",
      "\n",
      "             52        297       176  ...  490  261  279  202  146  179  205  \\\n",
      "54086   0.021739  0.260870  0.021739  ...  0.0  0.0  0.0  0.0  0.0  0.0  0.0   \n",
      "32784   0.000000  0.000000  0.000000  ...  0.0  0.0  0.0  0.0  0.0  0.0  0.0   \n",
      "98450   0.000000  0.130435  0.000000  ...  0.0  0.0  0.0  0.0  0.0  0.0  0.0   \n",
      "84764   0.004938  0.074074  0.002469  ...  0.0  0.0  0.0  0.0  0.0  0.0  0.0   \n",
      "74979   0.013487  0.036609  0.005780  ...  0.0  0.0  0.0  0.0  0.0  0.0  0.0   \n",
      "...          ...       ...       ...  ...  ...  ...  ...  ...  ...  ...  ...   \n",
      "145648  0.000000  0.200000  0.000000  ...  0.0  0.0  0.0  0.0  0.0  0.0  0.0   \n",
      "143493  0.666667  0.000000  0.000000  ...  0.0  0.0  0.0  0.0  0.0  0.0  0.0   \n",
      "87061   0.000000  0.000000  0.000000  ...  0.0  0.0  0.0  0.0  0.0  0.0  0.0   \n",
      "148172  0.000000  0.500000  0.000000  ...  0.0  0.0  0.0  0.0  0.0  0.0  0.0   \n",
      "147671  0.000000  0.400000  0.000000  ...  0.0  0.0  0.0  0.0  0.0  0.0  0.0   \n",
      "\n",
      "        7    479  36   \n",
      "54086   0.0  0.0  0.0  \n",
      "32784   0.0  0.0  0.0  \n",
      "98450   0.0  0.0  0.0  \n",
      "84764   0.0  0.0  0.0  \n",
      "74979   0.0  0.0  0.0  \n",
      "...     ...  ...  ...  \n",
      "145648  0.0  0.0  0.0  \n",
      "143493  0.0  0.0  0.0  \n",
      "87061   0.0  0.0  0.0  \n",
      "148172  0.0  0.0  0.0  \n",
      "147671  0.0  0.0  0.0  \n",
      "\n",
      "[59656 rows x 330 columns]\n",
      "Time Taken to load Dataframe: ~116secondes\n"
     ]
    }
   ],
   "source": [
    "start = time()\n",
    "dict_client_univ = {}\n",
    "\n",
    "for i in range(nbr_data):\n",
    "    univ   = df_univers[TABLE_UNIVERS][i]\n",
    "    client = df_univers[TABLE_CONSO][i]\n",
    "    if univ == -1:\n",
    "        continue\n",
    "    \n",
    "    if univ in deleted:\n",
    "        univ = univers_correspondance[univ]\n",
    "    \n",
    "    if not client in dict_client_univ:\n",
    "        dict_client_univ[client] = {}\n",
    "        \n",
    "    if not univ in dict_client_univ[client]:\n",
    "        dict_client_univ[client][univ] = 0\n",
    "    dict_client_univ[client][univ] += 1\n",
    "\n",
    "to_remove = []\n",
    "for k,v in dict_client_univ.items():\n",
    "    if sum(v.values()) < client_tresh:\n",
    "        to_remove.append(k)\n",
    "    else:\n",
    "        maxi = max(v.values())\n",
    "        dict_client_univ[k] = {key:value/maxi for key,value in v.items()}\n",
    "\n",
    "for k in to_remove:\n",
    "    del dict_client_univ[k]\n",
    "        \n",
    "    \n",
    "clients_data = pd.DataFrame(index = dict_client_univ.keys(),\n",
    "                        data = dict_client_univ.values())\n",
    "clients_data = clients_data.replace(float('NaN'), 0)\n",
    " \n",
    "print(clients_data)\n",
    "\n",
    "# environ 10s * nbr_client/10.000\n",
    "print(\"Time Taken to load Dataframe: ~\" + str(int(time() - start)) + \"secondes\")"
   ]
  },
  {
   "cell_type": "code",
   "execution_count": 107,
   "id": "723f31d1",
   "metadata": {},
   "outputs": [
    {
     "name": "stdout",
     "output_type": "stream",
     "text": [
      "             196       299       211       19        180       61        228  \\\n",
      "54086   0.043478  1.000000  0.500000  0.065217  0.130435  0.043478  0.065217   \n",
      "32784   0.025641  0.025641  0.025641  0.000000  0.256410  0.000000  0.102564   \n",
      "98450   0.000000  0.434783  0.043478  0.000000  0.086957  0.000000  0.391304   \n",
      "84764   0.000000  0.276543  0.024691  0.004938  0.049383  0.034568  0.128395   \n",
      "74979   0.000000  0.042389  0.125241  0.000000  0.146435  0.009634  0.040462   \n",
      "...          ...       ...       ...       ...       ...       ...       ...   \n",
      "145648  0.000000  1.000000  0.000000  0.000000  0.000000  0.000000  0.000000   \n",
      "143493  0.000000  0.333333  0.000000  0.000000  0.000000  0.000000  0.000000   \n",
      "87061   0.000000  0.000000  0.166667  0.000000  0.166667  0.000000  0.000000   \n",
      "148172  0.000000  0.000000  0.000000  0.000000  0.000000  0.500000  0.000000   \n",
      "147671  0.000000  0.000000  0.000000  0.000000  1.000000  0.000000  0.000000   \n",
      "\n",
      "             52        297       176  ...  238  332  80   119  107  206  433  \\\n",
      "54086   0.021739  0.260870  0.021739  ...  0.0  0.0  0.0  0.0  0.0  0.0  0.0   \n",
      "32784   0.000000  0.000000  0.000000  ...  0.0  0.0  0.0  0.0  0.0  0.0  0.0   \n",
      "98450   0.000000  0.130435  0.000000  ...  0.0  0.0  0.0  0.0  0.0  0.0  0.0   \n",
      "84764   0.004938  0.074074  0.002469  ...  0.0  0.0  0.0  0.0  0.0  0.0  0.0   \n",
      "74979   0.013487  0.036609  0.005780  ...  0.0  0.0  0.0  0.0  0.0  0.0  0.0   \n",
      "...          ...       ...       ...  ...  ...  ...  ...  ...  ...  ...  ...   \n",
      "145648  0.000000  0.200000  0.000000  ...  0.0  0.0  0.0  0.0  0.0  0.0  0.0   \n",
      "143493  0.666667  0.000000  0.000000  ...  0.0  0.0  0.0  0.0  0.0  0.0  0.0   \n",
      "87061   0.000000  0.000000  0.000000  ...  0.0  0.0  0.0  0.0  0.0  0.0  0.0   \n",
      "148172  0.000000  0.500000  0.000000  ...  0.0  0.0  0.0  0.0  0.0  0.0  0.0   \n",
      "147671  0.000000  0.400000  0.000000  ...  0.0  0.0  0.0  0.0  0.0  0.0  0.0   \n",
      "\n",
      "        143  195  191  \n",
      "54086   0.0  0.0  0.0  \n",
      "32784   0.0  0.0  0.0  \n",
      "98450   0.0  0.0  0.0  \n",
      "84764   0.0  0.0  0.0  \n",
      "74979   0.0  0.0  0.0  \n",
      "...     ...  ...  ...  \n",
      "145648  0.0  0.0  0.0  \n",
      "143493  0.0  0.0  0.0  \n",
      "87061   0.0  0.0  0.0  \n",
      "148172  0.0  0.0  0.0  \n",
      "147671  0.0  0.0  0.0  \n",
      "\n",
      "[59656 rows x 290 columns]\n"
     ]
    }
   ],
   "source": [
    "# Standard Normalization\n",
    "def standard_normalization(df):\n",
    "    return df.iloc[:,:].apply(lambda x: (x-x.mean())/ x.std(), axis=0)\n",
    "\n",
    "# Min-Max Normalization\n",
    "from sklearn.preprocessing import MinMaxScaler\n",
    "def minmax_normalization(df):\n",
    "    scaler = MinMaxScaler() \n",
    "    scaled_values = scaler.fit_transform(df) \n",
    "    return pd.DataFrame(index = df.index, columns = df.columns,data = scaled_values)\n",
    "\n",
    "norm_clients_data = clients_data\n",
    "if Standard_Norm:\n",
    "    norm_clients_data = standard_normalization(norm_clients_data)\n",
    "if MinMax_Norm:\n",
    "    norm_clients_data = minmax_normalization(norm_clients_data)\n",
    "\n",
    "for column in norm_clients_data:\n",
    "    if sum(norm_clients_data[column]) < univers_tresh:\n",
    "        norm_clients_data = norm_clients_data.drop(columns = column)\n",
    "\n",
    "print(norm_clients_data)"
   ]
  },
  {
   "cell_type": "code",
   "execution_count": 119,
   "id": "0c2721b2",
   "metadata": {
    "scrolled": false
   },
   "outputs": [
    {
     "name": "stdout",
     "output_type": "stream",
     "text": [
      "5 6 7 8 9 10 11 12 13 14 15 16 17 18 19 20 21 22 23 24 25 26 27 28 29 "
     ]
    },
    {
     "data": {
      "image/png": "[encoded data removed]",
      "text/plain": [
       "<Figure size 1080x360 with 1 Axes>"
      ]
     },
     "metadata": {
      "needs_background": "light"
     },
     "output_type": "display_data"
    },
    {
     "name": "stdout",
     "output_type": "stream",
     "text": [
      "Time Taken to generate Elbow Curve : ~311secondes\n"
     ]
    }
   ],
   "source": [
    "if do_Elbow:\n",
    "    start = time()\n",
    "    \n",
    "    distorsions = []\n",
    "    for k in range(Kmin, Kmax):\n",
    "        print(k, end = ' ')\n",
    "        model = KMeans(n_clusters=k)\n",
    "        model.fit(norm_clients_data)\n",
    "        distorsions.append(model.inertia_)\n",
    "\n",
    "    fig = plt.figure(figsize=(15, 5))\n",
    "    plt.plot(range(Kmin, Kmax), distorsions)\n",
    "    plt.grid(True)\n",
    "    plt.title('Elbow curve')\n",
    "    \n",
    "    if save_fig:\n",
    "        plt.savefig(save_folder+\"/\"+str(Univers_Depth)+\"_Elbow_Curve.jpg\")\n",
    "    \n",
    "    plt.show()\n",
    "    # environ 10s*Kmax\n",
    "    print(\"Time Taken to generate Elbow Curve : ~\" + str(int(time() - start)) + \"secondes\")"
   ]
  },
  {
   "cell_type": "code",
   "execution_count": 115,
   "id": "0f20d0b5",
   "metadata": {
    "scrolled": false
   },
   "outputs": [
    {
     "name": "stdout",
     "output_type": "stream",
     "text": [
      "5 6 7 8 9 10 11 12 13 14 15 16 17 18 19 20 21 22 23 24 25 26 27 28 29 "
     ]
    },
    {
     "data": {
      "image/png": "[encoded data removed]",
      "text/plain": [
       "<Figure size 1080x360 with 1 Axes>"
      ]
     },
     "metadata": {
      "needs_background": "light"
     },
     "output_type": "display_data"
    },
    {
     "name": "stdout",
     "output_type": "stream",
     "text": [
      "Time Taken to generate Exclude Elbow Curve : ~329secondes\n"
     ]
    }
   ],
   "source": [
    "if do_Elbow:\n",
    "    start = time()\n",
    "\n",
    "    distorsions = []\n",
    "    for k in range(Kmin, Kmax):\n",
    "        print(k, end = ' ')\n",
    "        model = KMeans(n_clusters=k)\n",
    "        model.fit(norm_clients_data)\n",
    "        cluster = model.predict(norm_clients_data)\n",
    "        cluster_centers = model.cluster_centers_\n",
    "\n",
    "        treshold = Standard_Tresh if Standard_Norm else MinMax_Tesh\n",
    "        NACK = 0\n",
    "        for i in range(len(cluster_centers)):\n",
    "            if sum([(1 if c > treshold else 0) for c in cluster_centers[i]]) == 0:\n",
    "                NACK += cluster.tolist().count(i)\n",
    "\n",
    "        distorsions.append(NACK/len(cluster))\n",
    "\n",
    "    fig = plt.figure(figsize=(15, 5))\n",
    "    plt.plot(range(Kmin, Kmax), distorsions)\n",
    "    plt.grid(True)\n",
    "    plt.title('Exclude Elbow curve')\n",
    "    \n",
    "    if save_fig:\n",
    "        plt.savefig(save_folder+\"/\"+str(Univers_Depth)+\"_Exclude_Elbow_Curve.jpg\")\n",
    "    \n",
    "    plt.show()\n",
    "    \n",
    "\n",
    "    # environ 10s*Kmax\n",
    "    print(\"Time Taken to generate Exclude Elbow Curve : ~\" + str(int(time() - start)) + \"secondes\")"
   ]
  },
  {
   "cell_type": "code",
   "execution_count": 110,
   "id": "76da050e",
   "metadata": {},
   "outputs": [
    {
     "name": "stdout",
     "output_type": "stream",
     "text": [
      "Time Taken to fit model : ~78secondes\n"
     ]
    }
   ],
   "source": [
    "start = time()\n",
    "model = KMeans(K, n_init = n_init)\n",
    "model.fit(norm_clients_data)\n",
    "cluster = model.labels_\n",
    "# environ 1.5s * n_init\n",
    "print(\"Time Taken to fit model : ~\" + str(int(time() - start)) + \"secondes\")"
   ]
  },
  {
   "cell_type": "code",
   "execution_count": 111,
   "id": "24f71eb2",
   "metadata": {
    "scrolled": false
   },
   "outputs": [],
   "source": [
    "cluster_centers = model.cluster_centers_\n",
    "\n",
    "interest = {i:[] for i in range(len(cluster_centers))}\n",
    "\n",
    "treshold = Standard_Tresh if Standard_Norm else MinMax_Tesh\n",
    "\n",
    "for i in range(len(cluster_centers)):\n",
    "    for j in range(len(cluster_centers[i])):\n",
    "        if cluster_centers[i][j] > treshold:\n",
    "            interest[i].append(clients_data.columns[j])"
   ]
  },
  {
   "cell_type": "code",
   "execution_count": 112,
   "id": "ef3bc99d",
   "metadata": {
    "scrolled": false
   },
   "outputs": [
    {
     "name": "stdout",
     "output_type": "stream",
     "text": [
      "\n",
      "\n",
      "Cluster 0: 3.22 %\n",
      " Univ_KEY        Univ_1         Univ_2        Univ_3\n",
      "      402 PRET A MANGER PLATS PREPARES  CHINESE FOOD\n",
      "      408 PRET A MANGER PLATS PREPARES JAPANESE FOOD\n",
      "      412 PRET A MANGER PLATS PREPARES     THAI FOOD\n",
      "\n",
      "\n",
      "Cluster 1: 3.87 %\n",
      " Univ_KEY                     Univ_1                    Univ_2 Univ_3\n",
      "      322 APERITIF   ENTREES   TAPAS BISCUITERIE SALEE  SNACKS  CHIPS\n",
      "\n",
      "\n",
      "Cluster 2: 1.82 %\n",
      " Univ_KEY         Univ_1       Univ_2        Univ_3\n",
      "      299 PETIT DEJEUNER VIENNOISERIE VIENNOISERIES\n",
      "      437 PETIT DEJEUNER CAFE SERVICE  CAFE SERVICE\n",
      "\n",
      "\n",
      "Cluster 3: 6.43 %\n",
      " Univ_KEY        Univ_1         Univ_2         Univ_3\n",
      "      403 PRET A MANGER PLATS PREPARES TRADITION FOOD\n",
      "\n",
      "\n",
      "Cluster 4: 4.65 %\n",
      " Univ_KEY         Univ_1                       Univ_2 Univ_3\n",
      "      297 PETIT DEJEUNER BOULANGERIE   PROD CROQUANTS  PAINS\n",
      "\n",
      "\n",
      "Cluster 5: 6.94 %\n",
      "\n",
      "\n",
      "Cluster 6: 4.83 %\n",
      " Univ_KEY         Univ_1       Univ_2            Univ_3\n",
      "      299 PETIT DEJEUNER VIENNOISERIE     VIENNOISERIES\n",
      "      392  PRET A MANGER   SANDWICHES SANDWICHES FROIDS\n",
      "\n",
      "\n",
      "Cluster 7: 3.14 %\n",
      " Univ_KEY        Univ_1        Univ_2             Univ_3\n",
      "      189      BOISSONS        BIERES BLONDE (HORS PILS)\n",
      "      388 CONSIGNE PLUS CONSIGNE PLUS       VIDANGE PLUS\n",
      "\n",
      "\n",
      "Cluster 8: 4.76 %\n",
      " Univ_KEY   Univ_1      Univ_2 Univ_3\n",
      "      228 BOISSONS SOFT DRINKS   SODA\n",
      "\n",
      "\n",
      "Cluster 9: 3.74 %\n",
      " Univ_KEY   Univ_1 Univ_2 Univ_3\n",
      "      244 BOISSONS   VINS FRANCE\n",
      "\n",
      "\n",
      "Cluster 10: 3.67 %\n",
      " Univ_KEY         Univ_1                       Univ_2    Univ_3\n",
      "      294 PETIT DEJEUNER BOULANGERIE   PROD CROQUANTS BAGUETTES\n",
      "\n",
      "\n",
      "Cluster 11: 4.18 %\n",
      " Univ_KEY          Univ_1             Univ_2             Univ_3\n",
      "      272 TABACS   PRESSE TABAC   CIGARETTES TABAC   CIGARETTES\n",
      "      299  PETIT DEJEUNER       VIENNOISERIE      VIENNOISERIES\n",
      "\n",
      "\n",
      "Cluster 12: 8.88 %\n",
      " Univ_KEY        Univ_1     Univ_2            Univ_3\n",
      "      392 PRET A MANGER SANDWICHES SANDWICHES FROIDS\n",
      "\n",
      "\n",
      "Cluster 13: 2.14 %\n",
      " Univ_KEY        Univ_1     Univ_2            Univ_3\n",
      "      355 PRET A MANGER    SALADES     SALADES REPAS\n",
      "      392 PRET A MANGER SANDWICHES SANDWICHES FROIDS\n",
      "\n",
      "\n",
      "Cluster 14: 3.26 %\n",
      " Univ_KEY                     Univ_1                       Univ_2            Univ_3\n",
      "      180           FRUITS   LEGUMES                      LEGUMES    AUTRES LEGUMES\n",
      "      228                   BOISSONS                  SOFT DRINKS              SODA\n",
      "      294             PETIT DEJEUNER BOULANGERIE   PROD CROQUANTS         BAGUETTES\n",
      "      296             PETIT DEJEUNER BOULANGERIE   PROD CROQUANTS        MINI PAINS\n",
      "      297             PETIT DEJEUNER BOULANGERIE   PROD CROQUANTS             PAINS\n",
      "      299             PETIT DEJEUNER                 VIENNOISERIE     VIENNOISERIES\n",
      "      322 APERITIF   ENTREES   TAPAS    BISCUITERIE SALEE  SNACKS             CHIPS\n",
      "      392              PRET A MANGER                   SANDWICHES SANDWICHES FROIDS\n",
      "      403              PRET A MANGER               PLATS PREPARES    TRADITION FOOD\n",
      "      405              PRET A MANGER               PLATS PREPARES      ITALIAN FOOD\n",
      "\n",
      "\n",
      "Cluster 15: 10.27 %\n",
      " Univ_KEY         Univ_1       Univ_2        Univ_3\n",
      "      299 PETIT DEJEUNER VIENNOISERIE VIENNOISERIES\n",
      "\n",
      "\n",
      "Cluster 16: 4.75 %\n",
      " Univ_KEY        Univ_1         Univ_2         Univ_3\n",
      "      403 PRET A MANGER PLATS PREPARES TRADITION FOOD\n",
      "      405 PRET A MANGER PLATS PREPARES   ITALIAN FOOD\n",
      "\n",
      "\n",
      "Cluster 17: 5.26 %\n",
      " Univ_KEY         Univ_1                       Univ_2        Univ_3\n",
      "      296 PETIT DEJEUNER BOULANGERIE   PROD CROQUANTS    MINI PAINS\n",
      "      299 PETIT DEJEUNER                 VIENNOISERIE VIENNOISERIES\n",
      "\n",
      "\n",
      "Cluster 18: 3.45 %\n",
      " Univ_KEY        Univ_1      Univ_2            Univ_3\n",
      "      228      BOISSONS SOFT DRINKS              SODA\n",
      "      392 PRET A MANGER  SANDWICHES SANDWICHES FROIDS\n",
      "\n",
      "\n",
      "Cluster 19: 4.4 %\n",
      " Univ_KEY           Univ_1  Univ_2         Univ_3\n",
      "      180 FRUITS   LEGUMES LEGUMES AUTRES LEGUMES\n",
      "\n",
      "\n",
      "Cluster 20: 6.34 %\n",
      " Univ_KEY        Univ_1         Univ_2       Univ_3\n",
      "      405 PRET A MANGER PLATS PREPARES ITALIAN FOOD\n",
      "\n",
      "NACK = 6.94 %\n"
     ]
    },
    {
     "name": "stderr",
     "output_type": "stream",
     "text": [
      "C:\\ProgramData\\Anaconda3\\lib\\site-packages\\pandas\\io\\sql.py:761: UserWarning: pandas only support SQLAlchemy connectable(engine/connection) ordatabase string URI or sqlite3 DBAPI2 connectionother DBAPI2 objects are not tested, please consider using SQLAlchemy\n",
      "  warnings.warn(\n",
      "C:\\ProgramData\\Anaconda3\\lib\\site-packages\\pandas\\io\\sql.py:761: UserWarning: pandas only support SQLAlchemy connectable(engine/connection) ordatabase string URI or sqlite3 DBAPI2 connectionother DBAPI2 objects are not tested, please consider using SQLAlchemy\n",
      "  warnings.warn(\n",
      "C:\\ProgramData\\Anaconda3\\lib\\site-packages\\pandas\\io\\sql.py:761: UserWarning: pandas only support SQLAlchemy connectable(engine/connection) ordatabase string URI or sqlite3 DBAPI2 connectionother DBAPI2 objects are not tested, please consider using SQLAlchemy\n",
      "  warnings.warn(\n",
      "C:\\ProgramData\\Anaconda3\\lib\\site-packages\\pandas\\io\\sql.py:761: UserWarning: pandas only support SQLAlchemy connectable(engine/connection) ordatabase string URI or sqlite3 DBAPI2 connectionother DBAPI2 objects are not tested, please consider using SQLAlchemy\n",
      "  warnings.warn(\n",
      "C:\\ProgramData\\Anaconda3\\lib\\site-packages\\pandas\\io\\sql.py:761: UserWarning: pandas only support SQLAlchemy connectable(engine/connection) ordatabase string URI or sqlite3 DBAPI2 connectionother DBAPI2 objects are not tested, please consider using SQLAlchemy\n",
      "  warnings.warn(\n",
      "C:\\ProgramData\\Anaconda3\\lib\\site-packages\\pandas\\io\\sql.py:761: UserWarning: pandas only support SQLAlchemy connectable(engine/connection) ordatabase string URI or sqlite3 DBAPI2 connectionother DBAPI2 objects are not tested, please consider using SQLAlchemy\n",
      "  warnings.warn(\n",
      "C:\\ProgramData\\Anaconda3\\lib\\site-packages\\pandas\\io\\sql.py:761: UserWarning: pandas only support SQLAlchemy connectable(engine/connection) ordatabase string URI or sqlite3 DBAPI2 connectionother DBAPI2 objects are not tested, please consider using SQLAlchemy\n",
      "  warnings.warn(\n",
      "C:\\ProgramData\\Anaconda3\\lib\\site-packages\\pandas\\io\\sql.py:761: UserWarning: pandas only support SQLAlchemy connectable(engine/connection) ordatabase string URI or sqlite3 DBAPI2 connectionother DBAPI2 objects are not tested, please consider using SQLAlchemy\n",
      "  warnings.warn(\n",
      "C:\\ProgramData\\Anaconda3\\lib\\site-packages\\pandas\\io\\sql.py:761: UserWarning: pandas only support SQLAlchemy connectable(engine/connection) ordatabase string URI or sqlite3 DBAPI2 connectionother DBAPI2 objects are not tested, please consider using SQLAlchemy\n",
      "  warnings.warn(\n",
      "C:\\ProgramData\\Anaconda3\\lib\\site-packages\\pandas\\io\\sql.py:761: UserWarning: pandas only support SQLAlchemy connectable(engine/connection) ordatabase string URI or sqlite3 DBAPI2 connectionother DBAPI2 objects are not tested, please consider using SQLAlchemy\n",
      "  warnings.warn(\n",
      "C:\\ProgramData\\Anaconda3\\lib\\site-packages\\pandas\\io\\sql.py:761: UserWarning: pandas only support SQLAlchemy connectable(engine/connection) ordatabase string URI or sqlite3 DBAPI2 connectionother DBAPI2 objects are not tested, please consider using SQLAlchemy\n",
      "  warnings.warn(\n",
      "C:\\ProgramData\\Anaconda3\\lib\\site-packages\\pandas\\io\\sql.py:761: UserWarning: pandas only support SQLAlchemy connectable(engine/connection) ordatabase string URI or sqlite3 DBAPI2 connectionother DBAPI2 objects are not tested, please consider using SQLAlchemy\n",
      "  warnings.warn(\n",
      "C:\\ProgramData\\Anaconda3\\lib\\site-packages\\pandas\\io\\sql.py:761: UserWarning: pandas only support SQLAlchemy connectable(engine/connection) ordatabase string URI or sqlite3 DBAPI2 connectionother DBAPI2 objects are not tested, please consider using SQLAlchemy\n",
      "  warnings.warn(\n",
      "C:\\ProgramData\\Anaconda3\\lib\\site-packages\\pandas\\io\\sql.py:761: UserWarning: pandas only support SQLAlchemy connectable(engine/connection) ordatabase string URI or sqlite3 DBAPI2 connectionother DBAPI2 objects are not tested, please consider using SQLAlchemy\n",
      "  warnings.warn(\n",
      "C:\\ProgramData\\Anaconda3\\lib\\site-packages\\pandas\\io\\sql.py:761: UserWarning: pandas only support SQLAlchemy connectable(engine/connection) ordatabase string URI or sqlite3 DBAPI2 connectionother DBAPI2 objects are not tested, please consider using SQLAlchemy\n",
      "  warnings.warn(\n",
      "C:\\ProgramData\\Anaconda3\\lib\\site-packages\\pandas\\io\\sql.py:761: UserWarning: pandas only support SQLAlchemy connectable(engine/connection) ordatabase string URI or sqlite3 DBAPI2 connectionother DBAPI2 objects are not tested, please consider using SQLAlchemy\n",
      "  warnings.warn(\n",
      "C:\\ProgramData\\Anaconda3\\lib\\site-packages\\pandas\\io\\sql.py:761: UserWarning: pandas only support SQLAlchemy connectable(engine/connection) ordatabase string URI or sqlite3 DBAPI2 connectionother DBAPI2 objects are not tested, please consider using SQLAlchemy\n",
      "  warnings.warn(\n",
      "C:\\ProgramData\\Anaconda3\\lib\\site-packages\\pandas\\io\\sql.py:761: UserWarning: pandas only support SQLAlchemy connectable(engine/connection) ordatabase string URI or sqlite3 DBAPI2 connectionother DBAPI2 objects are not tested, please consider using SQLAlchemy\n",
      "  warnings.warn(\n",
      "C:\\ProgramData\\Anaconda3\\lib\\site-packages\\pandas\\io\\sql.py:761: UserWarning: pandas only support SQLAlchemy connectable(engine/connection) ordatabase string URI or sqlite3 DBAPI2 connectionother DBAPI2 objects are not tested, please consider using SQLAlchemy\n",
      "  warnings.warn(\n",
      "C:\\ProgramData\\Anaconda3\\lib\\site-packages\\pandas\\io\\sql.py:761: UserWarning: pandas only support SQLAlchemy connectable(engine/connection) ordatabase string URI or sqlite3 DBAPI2 connectionother DBAPI2 objects are not tested, please consider using SQLAlchemy\n",
      "  warnings.warn(\n"
     ]
    }
   ],
   "source": [
    "NACK = 0\n",
    "\n",
    "conn = engine.connect()\n",
    "for key,values in interest.items():\n",
    "    print(\"\\n\\nCluster\", key, end=': ')\n",
    "    proportion = cluster.tolist().count(key)*100/len(cluster)\n",
    "    print(round(proportion,2),\"%\",)\n",
    "    \n",
    "    if len(values) == 0:\n",
    "        NACK += proportion\n",
    "        continue\n",
    "    \n",
    "    sql_command = '''SELECT [''' + TABLE_UNIVERS  + '''.KEY] AS Univ_KEY, \n",
    "    ['''  + TABLE_UNIVERS  + '''.Libelle_univers1_FR] AS Univ_1 ''' + ('''\n",
    "    ,[''' + TABLE_UNIVERS  + '''.Libelle_univers2_FR] AS Univ_2 ''')*int(Univers_Depth >= 2) + ('''\n",
    "    ,[''' + TABLE_UNIVERS  + '''.Libelle_univers3_FR] AS Univ_3 ''')*int(Univers_Depth >= 3) + ('''\n",
    "    ,[''' + TABLE_UNIVERS  + '''.Libelle_univers4_FR] AS Univ_4 ''')*int(Univers_Depth >= 4) + '''\n",
    "    FROM ['''+DB+'''].[DWH].[Dim_'''+TABLE_UNIVERS+''']\n",
    "    WHERE '''\n",
    "    for v in values:\n",
    "        sql_command += \"[\" + TABLE_UNIVERS  + \".KEY] = \" + str(v) + \"\\nOR \"\n",
    "    sql_command = sql_command[:-3]\n",
    "    #print(sql_command)\n",
    "\n",
    "    df_libele = pd.read_sql(sql_command, conn)\n",
    "    print(df_libele.to_string(index=False))\n",
    "conn.close()\n",
    "\n",
    "print(\"\\nNACK =\", round(NACK,2),\"%\")"
   ]
  },
  {
   "cell_type": "code",
   "execution_count": null,
   "id": "87defe84",
   "metadata": {},
   "outputs": [],
   "source": []
  },
  {
   "cell_type": "code",
   "execution_count": 113,
   "id": "af17bd1e",
   "metadata": {},
   "outputs": [
    {
     "name": "stdout",
     "output_type": "stream",
     "text": [
      "Total Time Taken: ~373secondes\n"
     ]
    }
   ],
   "source": [
    "print(\"Total Time Taken: ~\" + str(int(time() - Very_Start)) + \"secondes\") "
   ]
  },
  {
   "cell_type": "code",
   "execution_count": null,
   "id": "6caf45ba",
   "metadata": {},
   "outputs": [],
   "source": []
  }
 ],
 "metadata": {
  "kernelspec": {
   "display_name": "Python 3 (ipykernel)",
   "language": "python",
   "name": "python3"
  },
  "language_info": {
   "codemirror_mode": {
    "name": "ipython",
    "version": 3
   },
   "file_extension": ".py",
   "mimetype": "text/x-python",
   "name": "python",
   "nbconvert_exporter": "python",
   "pygments_lexer": "ipython3",
   "version": "3.9.12"
  }
 },
 "nbformat": 4,
 "nbformat_minor": 5
}
