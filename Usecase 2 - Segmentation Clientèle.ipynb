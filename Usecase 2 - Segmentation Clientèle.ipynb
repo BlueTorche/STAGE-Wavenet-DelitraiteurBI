{
 "cells": [
  {
   "cell_type": "code",
   "execution_count": 1,
   "id": "6757b3e2",
   "metadata": {},
   "outputs": [],
   "source": [
    "import urllib\n",
    "from sqlalchemy import create_engine\n",
    "\n",
    "import pandas as pd\n",
    "import matplotlib.pyplot as plt\n",
    "from datetime import date, timedelta\n",
    "from time import time\n",
    "\n",
    "from sklearn.cluster import KMeans\n",
    "import scipy.cluster.hierarchy as shc\n",
    "from sklearn.decomposition import PCA\n",
    "\n",
    "from matplotlib import pyplot as plt\n",
    "from sklearn.preprocessing import MinMaxScaler,StandardScaler\n",
    "from sklearn.utils import shuffle\n",
    "\n",
    "\n",
    "Very_Start = time()"
   ]
  },
  {
   "cell_type": "markdown",
   "id": "796c30de",
   "metadata": {},
   "source": [
    "### DEFINITION DE TOUS LES PARAMETRES"
   ]
  },
  {
   "cell_type": "code",
   "execution_count": 2,
   "id": "1535cf37",
   "metadata": {},
   "outputs": [],
   "source": [
    "# @param Does it save the figure ?\n",
    "save_fig    = True\n",
    "save_folder = 'UC2_fig'\n",
    "\n",
    "# @param Connexion à la DB\n",
    "driver   = '{ODBC Driver 17 for SQL Server}'\n",
    "server   = 'E5591-9S6YMV2'\n",
    "username = 'WVN\\k.dubrulle'\n",
    "login    = ('DRIVER=' + driver + \n",
    "         ';SERVER='   + server + \n",
    "         ';Trusted_Connection=yes;')\n",
    "\n",
    "\n",
    "# @param Definition des table et colonnes --> Dépendent de la DB\n",
    "DB             = \"Archive2018_2019_prod\"\n",
    "TABLE_CONSO    = \"Consommateur\"\n",
    "TABLE_ENTETE   = \"Recette_entete_ticket\"\n",
    "TEMPS_ENTETE   = TABLE_ENTETE             + \".TEMPS.KEY_Date_reel_de_la_transaction\"\n",
    "NUMERO_ENTETE  = TABLE_ENTETE             + \".Numero_ticket\"\n",
    "TABLE_DETAIL   = \"Recette_detail_ticket\"\n",
    "TEMPS_DETAIL   = TABLE_DETAIL             + \".TEMPS.KEY_Date_reel_transaction\"\n",
    "NUMERO_DETAIL  = TABLE_DETAIL             + \".Numero_ticket\"\n",
    "TABLE_ARTICLE  = \"Article_meti_HIST\"\n",
    "TABLE_UNIVERS  = \"Univers\"\n",
    "\n",
    "Univers_Depth  = 3            # Jusqu'où on ira dans l'univers ? = [1;4]\n",
    "\n",
    "# @param Variable influançant la sélection des données\n",
    "nbr_client     = -1           # Nombre de clients à sélectionner. MAX = 148188. -1 --> ALL\n",
    "client_tresh   = 20           # Nombre d'article que le client doit avoir acheter pour être mis dans un segment\n",
    "univers_tresh  = 20           # Nombre d'article acheté de l'univers pour qu'il soit pris en compte\n",
    "\n",
    "# @param Sur la normalization des données\n",
    "Standard_Norm  = False        # Défini si on utilise la Normalization Standard\n",
    "Standard_Tresh = 1            # Seuil d'acceptabilité des cluster en normalization standard\n",
    "MinMax_Norm    = False        # Défini si on utilise la Normalization Minmax\n",
    "MinMax_Tesh    = .3           # Seuil d'acceptabilité des cluster par défaut\n",
    "\n",
    "# @param Sur le modèle KMean\n",
    "K              = 9           # Nombre de segment. K = 21 -> 10% client d'exclu ; K = 15 -> 15% client exclu ; K = 9 -> 20% exclu \n",
    "n_init         = 50           # Nombre de run du KMean pour trouver le meilleur min\n",
    "\n",
    "# @param Sur l'analyse des données\n",
    "do_Analysis    = False         # Est-ce qu'on fait l'analyse des Elbow ou pas ?\n",
    "Kmin           = 5            # Nombre de cluster au début de l'analyse\n",
    "Kmax           = 30           # Nombre de cluster à la fin de l'analyse"
   ]
  },
  {
   "cell_type": "code",
   "execution_count": 3,
   "id": "92a148cf",
   "metadata": {},
   "outputs": [
    {
     "name": "stdout",
     "output_type": "stream",
     "text": [
      "   Consommateur.KEY\n",
      "0                -1\n",
      "1                 1\n",
      "2                 2\n",
      "3                 3\n",
      "4                 4\n",
      "5                 5\n",
      "6                 6\n",
      "7                 7\n",
      "8                 8\n",
      "9                 9\n"
     ]
    }
   ],
   "source": [
    "# TEST Connexion\n",
    "params = urllib.parse.quote_plus(login)\n",
    "engine = create_engine(\"mssql+pyodbc:///?odbc_connect=%s\" % params)\n",
    "\n",
    "conn = engine.connect()\n",
    "\n",
    "df = pd.read_sql(\"SELECT TOP(10) [\"+TABLE_CONSO+\".KEY] FROM [\"+DB+\"].[DWH].[Dim_\"+TABLE_CONSO+\"]\", conn)\n",
    "print(df)\n",
    "\n",
    "conn.close()"
   ]
  },
  {
   "cell_type": "markdown",
   "id": "1269884f",
   "metadata": {},
   "source": [
    "## Récupération des données correspondant aux clients"
   ]
  },
  {
   "cell_type": "code",
   "execution_count": 4,
   "id": "43d5b582",
   "metadata": {},
   "outputs": [
    {
     "name": "stdout",
     "output_type": "stream",
     "text": [
      "SELECT [Article_meti_HIST.Univers.KEY] AS Univers\n",
      ",[Recette_entete_ticket.Consommateur.KEY] AS Consommateur\n",
      "FROM [Archive2018_2019_prod].[DWH].[Fact_Recette_detail_ticket]\n",
      "INNER JOIN [Archive2018_2019_prod].[DWH].[Fact_Recette_entete_ticket] \n",
      "ON    [Recette_detail_ticket.TEMPS.KEY_Date_reel_transaction] = [Recette_entete_ticket.TEMPS.KEY_Date_reel_de_la_transaction] \n",
      "AND   [Recette_detail_ticket.Numero_ticket] = [Recette_entete_ticket.Numero_ticket]\n",
      "INNER JOIN [Archive2018_2019_prod].[DWH].[Dim_Article_meti_HIST]\n",
      "ON [Recette_detail_ticket.Article_meti_HIST.KEY] = [Article_meti_HIST.KEY] \n",
      "WHERE [Recette_entete_ticket.Consommateur.KEY] > 0 \n",
      "Time Taken to load DB: ~192secondes\n",
      "10836528\n"
     ]
    }
   ],
   "source": [
    "start = time()\n",
    "\n",
    "sql_command = '''SELECT [''' + TABLE_ARTICLE + '''.''' + TABLE_UNIVERS + '''.KEY] AS ''' + TABLE_UNIVERS + '''\n",
    ",[''' + TABLE_ENTETE + '''.''' + TABLE_CONSO + '''.KEY] AS ''' + TABLE_CONSO + '''\n",
    "FROM ['''       + DB + '''].[DWH].[Fact_''' + TABLE_DETAIL + ''']\n",
    "INNER JOIN [''' + DB + '''].[DWH].[Fact_''' + TABLE_ENTETE + '''] \n",
    "ON    [''' + TEMPS_DETAIL  +'''] = [''' + TEMPS_ENTETE  + '''] \n",
    "AND   [''' + NUMERO_DETAIL +'''] = [''' + NUMERO_ENTETE + ''']\n",
    "INNER JOIN [''' + DB + '''].[DWH].[Dim_'''  + TABLE_ARTICLE + ''']\n",
    "ON ['''    + TABLE_DETAIL  + '''.'''    + TABLE_ARTICLE + '''.KEY] = [''' + TABLE_ARTICLE + '''.KEY] \n",
    "WHERE [''' + TABLE_ENTETE  + '''.'''    + TABLE_CONSO   + '''.KEY] > 0 '''\n",
    "if nbr_client != -1:\n",
    "    sql_command +=  ''' AND [''' + TABLE_ENTETE  +'''.'''     + TABLE_CONSO   + '''.KEY] < '''  + str(nbr_client)\n",
    "\n",
    "print(sql_command)\n",
    "\n",
    "conn = engine.connect()\n",
    "df_univers = pd.read_sql(sql_command, conn)\n",
    "conn.close()\n",
    "\n",
    "# environ 3min\n",
    "print(\"Time Taken to load DB: ~\" + str(int(time() - start)) + \"secondes\") \n",
    "nbr_data = len(df_univers)\n",
    "print(nbr_data)"
   ]
  },
  {
   "cell_type": "code",
   "execution_count": 5,
   "id": "661a2848",
   "metadata": {},
   "outputs": [
    {
     "name": "stdout",
     "output_type": "stream",
     "text": [
      "SELECT [Univers.KEY],\n",
      "    [Univers.Libelle_univers1_FR], \n",
      "    [Univers.Libelle_univers2_FR], \n",
      "    [Univers.Libelle_univers3_FR], \n",
      "    [Univers.Libelle_univers4_FR]\n",
      "    FROM [Archive2018_2019_prod].[DWH].[Dim_Univers]\n",
      "Time Taken to load DB: ~0secondes\n",
      "     Univers.KEY Univers.Libelle_univers1_FR Univers.Libelle_univers2_FR  \\\n",
      "0             -1                           ?                           ?   \n",
      "1              1               PRET A MANGER      SERVICE TRAITEUR FROID   \n",
      "2              2               PRET A MANGER                MEUBLE CHAUD   \n",
      "3              3               PRET A MANGER                MEUBLE CHAUD   \n",
      "4              4               PRET A MANGER                MEUBLE CHAUD   \n",
      "..           ...                         ...                         ...   \n",
      "485          485               PRET A MANGER                     SALADES   \n",
      "486          486               PRET A MANGER                     SALADES   \n",
      "487          487  APERITIF   ENTREES   TAPAS                       TAPAS   \n",
      "488          488  APERITIF   ENTREES   TAPAS                       TAPAS   \n",
      "489          490                 REPRISE SSP                 REPRISE SSP   \n",
      "\n",
      "    Univers.Libelle_univers3_FR Univers.Libelle_univers4_FR  \n",
      "0                             ?                           ?  \n",
      "1           PLATEAUX SANDWICHES                       WRAPS  \n",
      "2                        PIZZAS                      PIZZAS  \n",
      "3                        PIZZAS                      PIZZAS  \n",
      "4                        PIZZAS      TARTES LEGUMES CHAUDES  \n",
      "..                          ...                         ...  \n",
      "485     LEGUMES ET LEGUMINEUSES     LEGUMES ET LEGUMINEUSES  \n",
      "486                      AUTRES                      AUTRES  \n",
      "487            DIPS   TAPENADES        DIPS TAPENADES FRAIS  \n",
      "488            DIPS   TAPENADES          DIPS TAPENADES SEC  \n",
      "489                 REPRISE SSP                 REPRISE SSP  \n",
      "\n",
      "[490 rows x 5 columns]\n"
     ]
    }
   ],
   "source": [
    "start = time()\n",
    "\n",
    "sql_command = '''SELECT [''' + TABLE_UNIVERS  + '''.KEY],\n",
    "    [''' + TABLE_UNIVERS  + '''.Libelle_univers1_FR], \n",
    "    [''' + TABLE_UNIVERS  + '''.Libelle_univers2_FR], \n",
    "    [''' + TABLE_UNIVERS  + '''.Libelle_univers3_FR], \n",
    "    [''' + TABLE_UNIVERS  + '''.Libelle_univers4_FR]\n",
    "    FROM ['''+DB+'''].[DWH].[Dim_'''+TABLE_UNIVERS+''']'''\n",
    "print(sql_command)\n",
    "\n",
    "conn = engine.connect()\n",
    "df_my_univers = pd.read_sql(sql_command, conn)\n",
    "conn.close()\n",
    "\n",
    "# environ 0s\n",
    "print(\"Time Taken to load DB: ~\" + str(int(time() - start)) + \"secondes\") \n",
    "print(df_my_univers)"
   ]
  },
  {
   "cell_type": "code",
   "execution_count": 6,
   "id": "5fe4aeba",
   "metadata": {
    "scrolled": true
   },
   "outputs": [
    {
     "name": "stdout",
     "output_type": "stream",
     "text": [
      "{428: 1, 429: 1, 3: 2, 4: 2, 5: 2, 8: 7, 28: 27, 32: 31, 39: 38, 40: 38, 42: 41, 43: 41, 44: 41, 46: 45, 47: 45, 48: 45, 49: 45, 50: 45, 462: 51, 475: 51, 62: 61, 63: 61, 71: 70, 72: 70, 73: 70, 89: 88, 90: 88, 91: 88, 93: 92, 456: 125, 463: 125, 464: 125, 465: 125, 466: 125, 467: 125, 468: 125, 130: 129, 137: 136, 139: 138, 140: 138, 181: 180, 182: 180, 183: 180, 184: 180, 185: 180, 186: 180, 187: 180, 469: 213, 476: 213, 216: 215, 218: 217, 225: 224, 227: 226, 457: 228, 458: 228, 459: 228, 470: 228, 477: 228, 471: 229, 472: 229, 245: 244, 246: 244, 247: 244, 248: 244, 249: 244, 250: 244, 251: 244, 252: 244, 253: 244, 254: 244, 255: 244, 256: 244, 281: 280, 282: 280, 283: 280, 454: 322, 473: 322, 461: 325, 474: 325, 487: 327, 488: 327, 345: 344, 347: 346, 349: 348, 350: 348, 351: 348, 352: 348, 353: 348, 354: 348, 356: 355, 357: 355, 358: 355, 359: 355, 360: 355, 361: 355, 363: 362, 364: 362, 390: 362, 391: 362, 393: 392, 394: 392, 395: 392, 396: 392, 397: 392, 398: 392, 399: 392, 400: 392, 401: 392, 404: 403, 406: 405, 409: 408, 415: 414, 417: 416, 418: 416, 419: 416, 420: 416, 425: 424, 445: 424, 427: 426, 440: 432, 434: 433, 441: 435, 443: 442}\n"
     ]
    }
   ],
   "source": [
    "univers_correspondance = {}\n",
    "deleted = set()\n",
    "for item in df_my_univers.values:\n",
    "    if item[0] in deleted:\n",
    "        continue\n",
    "    for cor in df_my_univers.values: \n",
    "        if item[0] != cor[0]:\n",
    "            if (\n",
    "                item[1] == cor[1] and\n",
    "                (item[2] == cor[2] or Univers_Depth < 2) and\n",
    "                (item[3] == cor[3] or Univers_Depth < 3) and\n",
    "                (item[4] == cor[4] or Univers_Depth < 4)\n",
    "            ):\n",
    "                univers_correspondance[cor[0]] = item[0]\n",
    "                deleted.add(cor[0])\n",
    "print(univers_correspondance)"
   ]
  },
  {
   "cell_type": "code",
   "execution_count": 7,
   "id": "20fba9dd",
   "metadata": {
    "scrolled": true
   },
   "outputs": [
    {
     "name": "stdout",
     "output_type": "stream",
     "text": [
      "             305       129       392       322       229       299       148  \\\n",
      "92009   0.016129  0.451613  1.000000  0.016129  0.056452  0.104839  0.040323   \n",
      "106     0.000000  0.000000  1.000000  0.000000  0.000000  0.821429  0.071429   \n",
      "81231   0.000000  0.271429  0.742857  0.142857  0.414286  1.000000  0.000000   \n",
      "80107   0.000000  0.086957  0.000000  0.043478  0.000000  0.217391  0.173913   \n",
      "55622   0.000000  0.000000  0.571429  0.571429  0.857143  0.285714  0.000000   \n",
      "...          ...       ...       ...       ...       ...       ...       ...   \n",
      "147291  0.000000  0.000000  0.250000  0.000000  0.000000  0.000000  0.000000   \n",
      "147671  0.000000  0.000000  0.000000  0.200000  0.000000  0.000000  0.000000   \n",
      "147633  0.000000  0.000000  0.000000  0.285714  0.000000  0.000000  0.000000   \n",
      "147439  0.000000  0.000000  0.000000  0.000000  0.000000  0.000000  0.000000   \n",
      "87061   0.000000  0.000000  0.000000  0.000000  0.000000  0.000000  0.000000   \n",
      "\n",
      "             228       244       220  ...  7    205  490  146  265  261  179  \\\n",
      "92009   0.274194  0.032258  0.096774  ...  0.0  0.0  0.0  0.0  0.0  0.0  0.0   \n",
      "106     0.392857  0.071429  0.035714  ...  0.0  0.0  0.0  0.0  0.0  0.0  0.0   \n",
      "81231   0.342857  0.042857  0.185714  ...  0.0  0.0  0.0  0.0  0.0  0.0  0.0   \n",
      "80107   0.086957  0.000000  0.000000  ...  0.0  0.0  0.0  0.0  0.0  0.0  0.0   \n",
      "55622   0.571429  0.285714  0.000000  ...  0.0  0.0  0.0  0.0  0.0  0.0  0.0   \n",
      "...          ...       ...       ...  ...  ...  ...  ...  ...  ...  ...  ...   \n",
      "147291  0.000000  0.000000  0.000000  ...  0.0  0.0  0.0  0.0  0.0  0.0  0.0   \n",
      "147671  0.000000  0.000000  0.000000  ...  0.0  0.0  0.0  0.0  0.0  0.0  0.0   \n",
      "147633  0.000000  0.000000  0.000000  ...  0.0  0.0  0.0  0.0  0.0  0.0  0.0   \n",
      "147439  0.000000  0.000000  0.000000  ...  0.0  0.0  0.0  0.0  0.0  0.0  0.0   \n",
      "87061   0.000000  0.166667  0.000000  ...  0.0  0.0  0.0  0.0  0.0  0.0  0.0   \n",
      "\n",
      "        479  202  36   \n",
      "92009   0.0  0.0  0.0  \n",
      "106     0.0  0.0  0.0  \n",
      "81231   0.0  0.0  0.0  \n",
      "80107   0.0  0.0  0.0  \n",
      "55622   0.0  0.0  0.0  \n",
      "...     ...  ...  ...  \n",
      "147291  0.0  0.0  0.0  \n",
      "147671  0.0  0.0  0.0  \n",
      "147633  0.0  0.0  0.0  \n",
      "147439  0.0  0.0  0.0  \n",
      "87061   0.0  0.0  0.0  \n",
      "\n",
      "[59656 rows x 330 columns]\n",
      "Time Taken to load Dataframe: ~117secondes\n"
     ]
    }
   ],
   "source": [
    "start = time()\n",
    "dict_client_univ = {}\n",
    "\n",
    "for i in range(nbr_data):\n",
    "    univ   = df_univers[TABLE_UNIVERS][i]\n",
    "    client = df_univers[TABLE_CONSO][i]\n",
    "    if univ == -1:\n",
    "        continue\n",
    "    \n",
    "    if univ in deleted:\n",
    "        univ = univers_correspondance[univ]\n",
    "    \n",
    "    if not client in dict_client_univ:\n",
    "        dict_client_univ[client] = {}\n",
    "        \n",
    "    if not univ in dict_client_univ[client]:\n",
    "        dict_client_univ[client][univ] = 0\n",
    "    dict_client_univ[client][univ] += 1\n",
    "\n",
    "to_remove = []\n",
    "for k,v in dict_client_univ.items():\n",
    "    if sum(v.values()) < client_tresh:\n",
    "        to_remove.append(k)\n",
    "    else:\n",
    "        maxi = max(v.values())\n",
    "        dict_client_univ[k] = {key:value/maxi for key,value in v.items()}\n",
    "\n",
    "for k in to_remove:\n",
    "    del dict_client_univ[k]\n",
    "        \n",
    "    \n",
    "clients_data = pd.DataFrame(index = dict_client_univ.keys(),\n",
    "                        data = dict_client_univ.values())\n",
    "clients_data = clients_data.replace(float('NaN'), 0)\n",
    " \n",
    "print(clients_data)\n",
    "\n",
    "# environ 10s * nbr_client/10.000\n",
    "print(\"Time Taken to load Dataframe: ~\" + str(int(time() - start)) + \"secondes\")"
   ]
  },
  {
   "cell_type": "code",
   "execution_count": 8,
   "id": "723f31d1",
   "metadata": {},
   "outputs": [
    {
     "name": "stdout",
     "output_type": "stream",
     "text": [
      "             305       129       392       322       229       299       148  \\\n",
      "94669   0.000000  0.166667  0.333333  0.000000  0.000000  1.000000  0.333333   \n",
      "96563   0.000000  0.000000  0.184211  0.526316  0.000000  0.263158  0.000000   \n",
      "140227  0.000000  0.250000  0.500000  0.250000  0.250000  0.000000  0.250000   \n",
      "8804    0.461538  0.000000  0.000000  0.692308  0.000000  0.076923  0.000000   \n",
      "11486   0.166667  0.000000  0.166667  0.000000  0.000000  1.000000  0.000000   \n",
      "...          ...       ...       ...       ...       ...       ...       ...   \n",
      "142409  0.000000  0.000000  0.000000  0.250000  0.000000  1.000000  0.000000   \n",
      "105810  0.000000  0.000000  1.000000  0.000000  0.000000  0.000000  0.000000   \n",
      "9351    0.000000  0.000000  0.023810  0.333333  1.000000  0.190476  0.000000   \n",
      "52901   0.000000  0.000000  0.000000  0.000000  0.000000  0.000000  0.000000   \n",
      "23905   0.000000  0.210526  0.263158  0.421053  0.052632  1.000000  0.000000   \n",
      "\n",
      "             228       244       220  ...  240  76   318  241  106  165  204  \\\n",
      "94669   0.000000  0.000000  0.000000  ...  0.0  0.0  0.0  0.0  0.0  0.0  0.0   \n",
      "96563   0.131579  0.000000  0.026316  ...  0.0  0.0  0.0  0.0  0.0  0.0  0.0   \n",
      "140227  0.000000  0.000000  0.500000  ...  0.0  0.0  0.0  0.0  0.0  0.0  0.0   \n",
      "8804    0.076923  0.000000  0.000000  ...  0.0  0.0  0.0  0.0  0.0  0.0  0.0   \n",
      "11486   0.166667  0.166667  0.000000  ...  0.0  0.0  0.0  0.0  0.0  0.0  0.0   \n",
      "...          ...       ...       ...  ...  ...  ...  ...  ...  ...  ...  ...   \n",
      "142409  0.250000  0.000000  0.000000  ...  0.0  0.0  0.0  0.0  0.0  0.0  0.0   \n",
      "105810  0.000000  0.750000  0.000000  ...  0.0  0.0  0.0  0.0  0.0  0.0  0.0   \n",
      "9351    0.023810  0.142857  0.023810  ...  0.0  0.0  0.0  0.0  0.0  0.0  0.0   \n",
      "52901   0.142857  0.000000  0.000000  ...  0.0  0.0  0.0  0.0  0.0  0.0  0.0   \n",
      "23905   0.157895  0.157895  0.000000  ...  0.0  0.0  0.0  0.0  0.0  0.0  0.0   \n",
      "\n",
      "        105  259  158  \n",
      "94669   0.0  0.0  0.0  \n",
      "96563   0.0  0.0  0.0  \n",
      "140227  0.0  0.0  0.0  \n",
      "8804    0.0  0.0  0.0  \n",
      "11486   0.0  0.0  0.0  \n",
      "...     ...  ...  ...  \n",
      "142409  0.0  0.0  0.0  \n",
      "105810  0.0  0.0  0.0  \n",
      "9351    0.0  0.0  0.0  \n",
      "52901   0.0  0.0  0.0  \n",
      "23905   0.0  0.0  0.0  \n",
      "\n",
      "[59656 rows x 290 columns]\n"
     ]
    }
   ],
   "source": [
    "# Standard Normalization\n",
    "def standard_normalization(df):\n",
    "    scaler = StandardScaler()\n",
    "    scaled_values = scaler.fit_transform(df)\n",
    "    return pd.DataFrame(index = df.index, columns = df.columns,data = scaled_values)\n",
    "\n",
    "# Min-Max Normalization\n",
    "def minmax_normalization(df):\n",
    "    scaler = MinMaxScaler() \n",
    "    scaled_values = scaler.fit_transform(df) \n",
    "    return pd.DataFrame(index = df.index, columns = df.columns,data = scaled_values)\n",
    "\n",
    "norm_clients_data = clients_data\n",
    "if Standard_Norm:\n",
    "    norm_clients_data = standard_normalization(norm_clients_data)\n",
    "if MinMax_Norm:\n",
    "    norm_clients_data = minmax_normalization(norm_clients_data)\n",
    "\n",
    "for column in norm_clients_data:\n",
    "    if sum(norm_clients_data[column]) < univers_tresh:\n",
    "        norm_clients_data = norm_clients_data.drop(columns = column)\n",
    "\n",
    "norm_clients_data = shuffle(norm_clients_data)        \n",
    "print(norm_clients_data)"
   ]
  },
  {
   "cell_type": "code",
   "execution_count": 10,
   "id": "90d76ab7",
   "metadata": {
    "scrolled": false
   },
   "outputs": [
    {
     "data": {
      "text/plain": [
       "<Figure size 1080x432 with 0 Axes>"
      ]
     },
     "metadata": {},
     "output_type": "display_data"
    },
    {
     "data": {
      "image/png": "[encoded data removed]",
      "text/plain": [
       "<Figure size 360x360 with 1 Axes>"
      ]
     },
     "metadata": {
      "needs_background": "light"
     },
     "output_type": "display_data"
    },
    {
     "data": {
      "text/plain": [
       "<Figure size 1080x432 with 0 Axes>"
      ]
     },
     "metadata": {},
     "output_type": "display_data"
    },
    {
     "data": {
      "image/png": "[encoded data removed]",
      "text/plain": [
       "<Figure size 360x360 with 1 Axes>"
      ]
     },
     "metadata": {
      "needs_background": "light"
     },
     "output_type": "display_data"
    },
    {
     "data": {
      "text/plain": [
       "<Figure size 1080x432 with 0 Axes>"
      ]
     },
     "metadata": {},
     "output_type": "display_data"
    },
    {
     "data": {
      "image/png": "[encoded data removed]",
      "text/plain": [
       "<Figure size 360x360 with 1 Axes>"
      ]
     },
     "metadata": {
      "needs_background": "light"
     },
     "output_type": "display_data"
    },
    {
     "data": {
      "text/plain": [
       "<Figure size 1080x432 with 0 Axes>"
      ]
     },
     "metadata": {},
     "output_type": "display_data"
    },
    {
     "data": {
      "image/png": "[encoded data removed]",
      "text/plain": [
       "<Figure size 360x360 with 1 Axes>"
      ]
     },
     "metadata": {
      "needs_background": "light"
     },
     "output_type": "display_data"
    },
    {
     "data": {
      "text/plain": [
       "<Figure size 1080x432 with 0 Axes>"
      ]
     },
     "metadata": {},
     "output_type": "display_data"
    },
    {
     "data": {
      "image/png": "[encoded data removed]",
      "text/plain": [
       "<Figure size 360x360 with 1 Axes>"
      ]
     },
     "metadata": {
      "needs_background": "light"
     },
     "output_type": "display_data"
    },
    {
     "data": {
      "text/plain": [
       "<Figure size 1080x432 with 0 Axes>"
      ]
     },
     "metadata": {},
     "output_type": "display_data"
    },
    {
     "data": {
      "image/png": "[encoded data removed]",
      "text/plain": [
       "<Figure size 360x360 with 1 Axes>"
      ]
     },
     "metadata": {
      "needs_background": "light"
     },
     "output_type": "display_data"
    },
    {
     "data": {
      "text/plain": [
       "<Figure size 1080x432 with 0 Axes>"
      ]
     },
     "metadata": {},
     "output_type": "display_data"
    },
    {
     "data": {
      "image/png": "[encoded data removed]",
      "text/plain": [
       "<Figure size 360x360 with 1 Axes>"
      ]
     },
     "metadata": {
      "needs_background": "light"
     },
     "output_type": "display_data"
    },
    {
     "data": {
      "text/plain": [
       "<Figure size 1080x432 with 0 Axes>"
      ]
     },
     "metadata": {},
     "output_type": "display_data"
    },
    {
     "data": {
      "image/png": "[encoded data removed]",
      "text/plain": [
       "<Figure size 360x360 with 1 Axes>"
      ]
     },
     "metadata": {
      "needs_background": "light"
     },
     "output_type": "display_data"
    },
    {
     "data": {
      "text/plain": [
       "<Figure size 1080x432 with 0 Axes>"
      ]
     },
     "metadata": {},
     "output_type": "display_data"
    },
    {
     "data": {
      "image/png": "[encoded data removed]",
      "text/plain": [
       "<Figure size 360x360 with 1 Axes>"
      ]
     },
     "metadata": {
      "needs_background": "light"
     },
     "output_type": "display_data"
    },
    {
     "data": {
      "text/plain": [
       "<Figure size 1080x432 with 0 Axes>"
      ]
     },
     "metadata": {},
     "output_type": "display_data"
    },
    {
     "data": {
      "image/png": "[encoded data removed]",
      "text/plain": [
       "<Figure size 360x360 with 1 Axes>"
      ]
     },
     "metadata": {
      "needs_background": "light"
     },
     "output_type": "display_data"
    }
   ],
   "source": [
    "import seaborn as sns\n",
    "for col in norm_clients_data.columns[:10]:\n",
    "    plt.figure(1, figsize=(15,6))\n",
    "    sns.displot(norm_clients_data[col], bins = 20)\n",
    "    plt.show()"
   ]
  },
  {
   "cell_type": "markdown",
   "id": "52921432",
   "metadata": {},
   "source": [
    "# SEGMENTATION DE LA CLIENTELE PAR KMEANS"
   ]
  },
  {
   "cell_type": "code",
   "execution_count": null,
   "id": "0c2721b2",
   "metadata": {
    "scrolled": false
   },
   "outputs": [],
   "source": [
    "if do_Analysis:\n",
    "    start = time()\n",
    "    \n",
    "    distorsions = []\n",
    "    for k in range(Kmin, Kmax):\n",
    "        print(k, end = ' ')\n",
    "        model = KMeans(n_clusters=k)\n",
    "        model.fit(norm_clients_data)\n",
    "        distorsions.append(model.inertia_)\n",
    "\n",
    "    fig = plt.figure(figsize=(15, 5))\n",
    "    plt.plot(range(Kmin, Kmax), distorsions)\n",
    "    plt.grid(True)\n",
    "    plt.title('Elbow curve')\n",
    "    \n",
    "    if save_fig:\n",
    "        plt.savefig(save_folder+\"/\"+str(Univers_Depth)+\"_Elbow_Curve.jpg\")\n",
    "    \n",
    "    plt.show()\n",
    "    # environ 10s*Kmax\n",
    "    print(\"Time Taken to generate Elbow Curve : ~\" + str(int(time() - start)) + \"secondes\")"
   ]
  },
  {
   "cell_type": "code",
   "execution_count": null,
   "id": "0f20d0b5",
   "metadata": {
    "scrolled": false
   },
   "outputs": [],
   "source": [
    "if do_Analysis:\n",
    "    start = time()\n",
    "\n",
    "    distorsions = []\n",
    "    for k in range(Kmin, Kmax):\n",
    "        print(k, end = ' ')\n",
    "        model = KMeans(n_clusters=k)\n",
    "        model.fit(norm_clients_data)\n",
    "        cluster = model.predict(norm_clients_data)\n",
    "        cluster_centers = model.cluster_centers_\n",
    "\n",
    "        treshold = Standard_Tresh if Standard_Norm else MinMax_Tesh\n",
    "        NACK = 0\n",
    "        for i in range(len(cluster_centers)):\n",
    "            if sum([(1 if c > treshold else 0) for c in cluster_centers[i]]) == 0:\n",
    "                NACK += cluster.tolist().count(i)\n",
    "\n",
    "        distorsions.append(NACK/len(cluster))\n",
    "\n",
    "    fig = plt.figure(figsize=(15, 5))\n",
    "    plt.plot(range(Kmin, Kmax), distorsions)\n",
    "    plt.grid(True)\n",
    "    plt.title('Exclude Elbow curve')\n",
    "    \n",
    "    if save_fig:\n",
    "        plt.savefig(save_folder+\"/\"+str(Univers_Depth)+\"_Exclude_Elbow_Curve.jpg\")\n",
    "    \n",
    "    plt.show()\n",
    "    \n",
    "\n",
    "    # environ 10s*Kmax\n",
    "    print(\"Time Taken to generate Exclude Elbow Curve : ~\" + str(int(time() - start)) + \"secondes\")"
   ]
  },
  {
   "cell_type": "code",
   "execution_count": null,
   "id": "76da050e",
   "metadata": {},
   "outputs": [],
   "source": [
    "start = time()\n",
    "model = KMeans(K, n_init = n_init)\n",
    "model.fit(norm_clients_data)\n",
    "cluster = model.labels_\n",
    "# environ 1.5s * n_init\n",
    "print(\"Time Taken to fit model : ~\" + str(int(time() - start)) + \"secondes\")"
   ]
  },
  {
   "cell_type": "code",
   "execution_count": null,
   "id": "24f71eb2",
   "metadata": {
    "scrolled": false
   },
   "outputs": [],
   "source": [
    "cluster_centers = model.cluster_centers_\n",
    "\n",
    "interest = {i:[] for i in range(len(cluster_centers))}\n",
    "\n",
    "treshold = Standard_Tresh if Standard_Norm else MinMax_Tesh\n",
    "\n",
    "for i in range(len(cluster_centers)):\n",
    "    for j in range(len(cluster_centers[i])):\n",
    "        if cluster_centers[i][j] > treshold:\n",
    "            interest[i].append(clients_data.columns[j])"
   ]
  },
  {
   "cell_type": "code",
   "execution_count": null,
   "id": "ef3bc99d",
   "metadata": {
    "scrolled": false
   },
   "outputs": [],
   "source": [
    "NACK = 0\n",
    "\n",
    "conn = engine.connect()\n",
    "for key,values in interest.items():\n",
    "    print(\"\\n\\nCluster\", key, end=': ')\n",
    "    proportion = cluster.tolist().count(key)*100/len(cluster)\n",
    "    print(round(proportion,2),\"%\",)\n",
    "    \n",
    "    if len(values) == 0:\n",
    "        NACK += proportion\n",
    "        continue\n",
    "    \n",
    "    sql_command = '''SELECT [''' + TABLE_UNIVERS  + '''.KEY] AS Univ_KEY, \n",
    "    ['''  + TABLE_UNIVERS  + '''.Libelle_univers1_FR] AS Univ_1 ''' + ('''\n",
    "    ,[''' + TABLE_UNIVERS  + '''.Libelle_univers2_FR] AS Univ_2 ''')*int(Univers_Depth >= 2) + ('''\n",
    "    ,[''' + TABLE_UNIVERS  + '''.Libelle_univers3_FR] AS Univ_3 ''')*int(Univers_Depth >= 3) + ('''\n",
    "    ,[''' + TABLE_UNIVERS  + '''.Libelle_univers4_FR] AS Univ_4 ''')*int(Univers_Depth >= 4) + '''\n",
    "    FROM ['''+DB+'''].[DWH].[Dim_'''+TABLE_UNIVERS+''']\n",
    "    WHERE '''\n",
    "    for v in values:\n",
    "        sql_command += \"[\" + TABLE_UNIVERS  + \".KEY] = \" + str(v) + \"\\nOR \"\n",
    "    sql_command = sql_command[:-3]\n",
    "    #print(sql_command)\n",
    "\n",
    "    df_libele = pd.read_sql(sql_command, conn)\n",
    "    print(df_libele.to_string(index=False))\n",
    "conn.close()\n",
    "\n",
    "print(\"\\nNACK =\", round(NACK,2),\"%\")"
   ]
  },
  {
   "cell_type": "code",
   "execution_count": null,
   "id": "af17bd1e",
   "metadata": {},
   "outputs": [],
   "source": [
    "print(\"Total Time Taken: ~\" + str(int(time() - Very_Start)) + \"secondes\") "
   ]
  },
  {
   "cell_type": "markdown",
   "id": "de70e2e4",
   "metadata": {},
   "source": [
    "# VISUALISATION PCA"
   ]
  },
  {
   "cell_type": "code",
   "execution_count": null,
   "id": "1fbf1825",
   "metadata": {},
   "outputs": [],
   "source": [
    "start = time()\n",
    "\n",
    "target = cluster\n",
    "\n",
    "model_pca = PCA(n_components= 2)\n",
    "\n",
    "predict = model_pca.fit(norm_clients_data).transform(norm_clients_data)\n",
    "\n",
    "# environ 1.5s\n",
    "print(\"Time Taken to fit model : ~\" + str(int(time() - start)) + \"secondes\")"
   ]
  },
  {
   "cell_type": "code",
   "execution_count": null,
   "id": "ded59299",
   "metadata": {},
   "outputs": [],
   "source": [
    "print('Explained variance ratio from PCA: {}'.format(model_pca.explained_variance_ratio_))"
   ]
  },
  {
   "cell_type": "code",
   "execution_count": null,
   "id": "d40d344a",
   "metadata": {},
   "outputs": [],
   "source": [
    "plt.figure(figsize=(15, 7))  \n",
    "plt.scatter(predict[:,0],predict[:,1], c=target, alpha=.8)\n",
    "plt.legend(loc='best', shadow=False, scatterpoints=1)\n",
    "plt.title('PCA of dataset')\n",
    "\n",
    "if save_fig:\n",
    "    plt.savefig(save_folder+\"/\"+str(Univers_Depth)+\"_PCA_Cluster-\"+str(K)+\".jpg\")"
   ]
  },
  {
   "cell_type": "code",
   "execution_count": null,
   "id": "8b8513c8",
   "metadata": {},
   "outputs": [],
   "source": [
    "start = time()\n",
    "\n",
    "target = cluster\n",
    "\n",
    "model_pca = PCA(n_components= 3)\n",
    "predict = model_pca.fit(norm_clients_data).transform(norm_clients_data)\n",
    "print('Explained variance ratio from PCA: {}'.format(model_pca.explained_variance_ratio_))\n",
    "\n",
    "\n",
    "plt.figure(figsize=(30, 30)) \n",
    "ax = plt.axes(projection='3d')\n",
    "\n",
    "ax.scatter3D(predict[:,0], predict[:,1], predict[:,2], c=target, cmap='Greens');\n",
    "\n",
    "plt.title('PCA of dataset in 3D')\n",
    "\n",
    "if save_fig:\n",
    "    plt.savefig(save_folder+\"/\"+str(Univers_Depth)+\"_PCA_Cluster-\"+str(K)+\"_3D.jpg\")\n",
    "\n",
    "\n",
    "print(\"Time Taken to fit model : ~\" + str(int(time() - start)) + \"secondes\")"
   ]
  },
  {
   "cell_type": "markdown",
   "id": "79c293a1",
   "metadata": {},
   "source": [
    "# SEGMENTATION HIERARCHICAL CLUSTERING"
   ]
  },
  {
   "cell_type": "code",
   "execution_count": null,
   "id": "3cb56b18",
   "metadata": {},
   "outputs": [],
   "source": [
    "if True:\n",
    "    start = time()\n",
    "    \n",
    "    method = 'ward'  # ward weighted complete median average centroid single\n",
    "    \n",
    "    plt.figure(figsize=(15, 7))  \n",
    "    plt.title(\"Dendrograms\")  \n",
    "    dend = shc.dendrogram(shc.linkage(norm_clients_data.head(10000), method=method), p = 50, truncate_mode = 'level')\n",
    "    \n",
    "    if save_fig:\n",
    "        plt.savefig(save_folder+\"/\"+str(Univers_Depth)+\"_Dendogram_\"+method+\".jpg\")\n",
    "    plt.show()\n",
    "\n",
    "\n",
    "    # Enivron 250s*(client/10000)²\n",
    "    print(\"Time Taken to fit model : ~\" + str(int(time() - start)) + \"secondes\")"
   ]
  },
  {
   "cell_type": "code",
   "execution_count": null,
   "id": "112ee14a",
   "metadata": {},
   "outputs": [],
   "source": [
    "from sklearn.cluster import AgglomerativeClustering\n",
    "\n",
    "start = time()\n",
    "\n",
    "model = AgglomerativeClustering(n_clusters=K, affinity='euclidean', linkage='ward')  \n",
    "model.fit_predict(norm_clients_data)\n",
    "print(model)\n",
    "# 15s * (N/10k)²\n",
    "print(\"Time Taken to fit model : ~\" + str(int(time() - start)) + \"secondes\")"
   ]
  },
  {
   "cell_type": "code",
   "execution_count": null,
   "id": "fbaee2d5",
   "metadata": {},
   "outputs": [],
   "source": [
    "temp10kmodel = model"
   ]
  }
 ],
 "metadata": {
  "kernelspec": {
   "display_name": "Python 3 (ipykernel)",
   "language": "python",
   "name": "python3"
  },
  "language_info": {
   "codemirror_mode": {
    "name": "ipython",
    "version": 3
   },
   "file_extension": ".py",
   "mimetype": "text/x-python",
   "name": "python",
   "nbconvert_exporter": "python",
   "pygments_lexer": "ipython3",
   "version": "3.9.12"
  }
 },
 "nbformat": 4,
 "nbformat_minor": 5
}
