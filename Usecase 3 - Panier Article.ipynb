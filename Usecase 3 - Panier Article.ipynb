{
 "cells": [
  {
   "cell_type": "code",
   "execution_count": 15,
   "id": "6757b3e2",
   "metadata": {},
   "outputs": [],
   "source": [
    "import urllib\n",
    "from sqlalchemy import create_engine\n",
    "\n",
    "import pandas as pd\n",
    "import matplotlib.pyplot as plt\n",
    "from datetime import date, timedelta\n",
    "from time import time\n",
    "\n",
    "from efficient_apriori import apriori\n",
    "from matplotlib import pyplot as plt\n",
    "\n",
    "Very_Start = time()"
   ]
  },
  {
   "cell_type": "markdown",
   "id": "796c30de",
   "metadata": {},
   "source": [
    "### DEFINITION DE TOUS LES PARAMETRES"
   ]
  },
  {
   "cell_type": "code",
   "execution_count": 16,
   "id": "1535cf37",
   "metadata": {},
   "outputs": [],
   "source": [
    "# @param Does it save the figure ?\n",
    "save_fig    = True\n",
    "save_folder = 'UC3_fig'\n",
    "\n",
    "# @param Connexion à la DB\n",
    "driver   = '{ODBC Driver 17 for SQL Server}'\n",
    "server   = 'E5591-9S6YMV2'\n",
    "username = 'WVN\\k.dubrulle'\n",
    "login    = ('DRIVER=' + driver + \n",
    "         ';SERVER='   + server + \n",
    "         ';Trusted_Connection=yes;')\n",
    "\n",
    "# @param Definition des table et colonnes --> Dépendent de la DB\n",
    "DB            = \"Archive2018_2019_prod\"\n",
    "TABLE_ENTETE  = \"Recette_entete_ticket\"\n",
    "TEMPS_ENTETE  = TABLE_ENTETE             + \".TEMPS.KEY_Date_reel_de_la_transaction\"\n",
    "NUMERO_ENTETE = TABLE_ENTETE             + \".Numero_ticket\"\n",
    "TABLE_DETAIL  = \"Recette_detail_ticket\"\n",
    "TEMPS_DETAIL  = TABLE_DETAIL             + \".TEMPS.KEY_Date_reel_transaction\"\n",
    "NUMERO_DETAIL = TABLE_DETAIL             + \".Numero_ticket\"\n",
    "TABLE_ARTICLE = \"Article_meti_HIST\"\n",
    "TABLE_UNIVERS = \"Univers\"\n",
    "\n",
    "# @param Variable influançant la sélection des données\n",
    "nbr_ticket_max = 27000000  # MAX = 26.671.566 --- ~ 4 data / ticket\n",
    "\n",
    "# @param Permet de faire varier l'analyse\n",
    "min_sup     = 0.0005       # support minimum analysé  \n",
    "max_sup     = 0.004        # support maximum analysé\n",
    "sup_iter    = 4            # Nombre d'itération - 1 fait sur la variantion de support\n",
    "min_conf    = 0.2          # confiance minimum analysée\n",
    "max_conf    = 0.7          # confiance maximum analysée\n",
    "conf_iter   = 5            # Nombre d'itération - 1 fait sur la variantion de confiance\n",
    "do_analysis = False        # Est-ce qu'on fait l'analyse ou non ? \n",
    "\n",
    "# @param du modèle prédictif\n",
    "min_support    = 1/500     # Seuil de support minimal souhaité   -> 1/#univers ~= 1/500\n",
    "min_confidence = 1/3       # Seuil de confiance minimal souhaité -> 1/3        ~= 33% "
   ]
  },
  {
   "cell_type": "code",
   "execution_count": 17,
   "id": "92a148cf",
   "metadata": {},
   "outputs": [
    {
     "name": "stdout",
     "output_type": "stream",
     "text": [
      "   Article_meti_HIST.KEY\n",
      "0                     -1\n",
      "1                      1\n",
      "2                      2\n",
      "3                      3\n",
      "4                      4\n",
      "5                      5\n",
      "6                      6\n",
      "7                      7\n",
      "8                      8\n",
      "9                      9\n"
     ]
    }
   ],
   "source": [
    "# TEST Connexion\n",
    "params = urllib.parse.quote_plus(login)\n",
    "engine = create_engine(\"mssql+pyodbc:///?odbc_connect=%s\" % params)\n",
    "\n",
    "conn = engine.connect()\n",
    "\n",
    "df = pd.read_sql(\"SELECT TOP(10) [\"+TABLE_ARTICLE+\".KEY] FROM [\"+DB+\"].[DWH].[Dim_\"+TABLE_ARTICLE+\"]\", conn)\n",
    "print(df)\n",
    "\n",
    "conn.close()"
   ]
  },
  {
   "cell_type": "markdown",
   "id": "d1612969",
   "metadata": {},
   "source": [
    "# GROUPEMENT D'ARTICLE"
   ]
  },
  {
   "cell_type": "code",
   "execution_count": 18,
   "id": "c657f637",
   "metadata": {
    "scrolled": false
   },
   "outputs": [
    {
     "name": "stdout",
     "output_type": "stream",
     "text": [
      "SELECT [Article_meti_HIST.Univers.KEY],\n",
      "[Recette_entete_ticket.KEY]\n",
      "FROM [Archive2018_2019_prod].[DWH].[Dim_Article_meti_HIST]\n",
      "INNER JOIN [Archive2018_2019_prod].[DWH].[Fact_Recette_detail_ticket]\n",
      "ON [Article_meti_HIST.KEY] = [Recette_detail_ticket.Article_meti_HIST.KEY]\n",
      "INNER JOIN [Archive2018_2019_prod].[DWH].[Fact_Recette_entete_ticket] \n",
      "ON [Recette_detail_ticket.TEMPS.KEY_Date_reel_transaction] = [Recette_entete_ticket.TEMPS.KEY_Date_reel_de_la_transaction] \n",
      "AND [Recette_detail_ticket.Numero_ticket] = [Recette_entete_ticket.Numero_ticket]\n",
      "WHERE [Article_meti_HIST.Univers.KEY] != -1 \n",
      "AND [Recette_entete_ticket.Nombre_articles] > 0 \n",
      "AND [Recette_entete_ticket.KEY] < 27000000\n",
      "AND [Article_meti_HIST.Univers.KEY] != 388\n",
      "ORDER BY [Recette_entete_ticket.KEY]\n",
      "Time Taken to load DB: ~1067secondes\n",
      "          Article_meti_HIST.Univers.KEY  Recette_entete_ticket.KEY\n",
      "0                                   392                          2\n",
      "1                                   148                          2\n",
      "2                                   148                          2\n",
      "3                                   129                          3\n",
      "4                                   357                          3\n",
      "...                                 ...                        ...\n",
      "82849519                            287                   26671566\n",
      "82849520                            437                   26671566\n",
      "82849521                            144                   26671566\n",
      "82849522                            287                   26671566\n",
      "82849523                            321                   26671566\n",
      "\n",
      "[82849524 rows x 2 columns]\n"
     ]
    }
   ],
   "source": [
    "def date_to_key(d):\n",
    "    return d.year*10000 + d.month*100 + d.day\n",
    "\n",
    "start = time()\n",
    "\n",
    "sql_command = '''SELECT [''' + TABLE_ARTICLE + '''.''' + TABLE_UNIVERS + '''.KEY],\n",
    "['''     + TABLE_ENTETE  + '''.KEY]\n",
    "FROM ['''       + DB + '''].[DWH].[Dim_'''  + TABLE_ARTICLE   + ''']\n",
    "INNER JOIN [''' + DB + '''].[DWH].[Fact_''' + TABLE_DETAIL    + ''']\n",
    "ON ['''  + TABLE_ARTICLE + '''.KEY] = ['''  + TABLE_DETAIL    + '''.''' + TABLE_ARTICLE + '''.KEY]\n",
    "INNER JOIN [''' + DB + '''].[DWH].[Fact_''' + TABLE_ENTETE    + '''] \n",
    "ON ['''  + TEMPS_DETAIL  + '''] = ['''      + TEMPS_ENTETE    + '''] \n",
    "AND [''' + NUMERO_DETAIL + '''] = ['''      + NUMERO_ENTETE   + ''']\n",
    "WHERE ['''    + TABLE_ARTICLE + '''.'''     + TABLE_UNIVERS   + '''.KEY] != -1 \n",
    "AND ['''      + TABLE_ENTETE  + '''.Nombre_articles] > 0 \n",
    "AND ['''      + TABLE_ENTETE  + '''.KEY] < ''' + str(nbr_ticket_max) + '''\n",
    "AND [''' + TABLE_ARTICLE + '''.''' + TABLE_UNIVERS + '''.KEY] != 388\n",
    "ORDER BY [''' + TABLE_ENTETE  + '''.KEY]'''\n",
    "\n",
    "print(sql_command)\n",
    "\n",
    "conn = engine.connect()\n",
    "df_art_ticket = pd.read_sql(sql_command, conn)\n",
    "conn.close()\n",
    "\n",
    "# environ 3min\n",
    "print(\"Time Taken to load DB: ~\" + str(int(time() - start)) + \"secondes\") \n",
    "nbr_data = len(df_art_ticket)\n",
    "print(df_art_ticket)"
   ]
  },
  {
   "cell_type": "code",
   "execution_count": 19,
   "id": "af78ab1d",
   "metadata": {},
   "outputs": [
    {
     "name": "stdout",
     "output_type": "stream",
     "text": [
      "10.0 %\n",
      "20.0 %\n",
      "30.0 %\n",
      "50.0 %\n",
      "60.0 %\n",
      "70.0 %\n",
      "90.0 %\n",
      "[(392, 148, 148), (129, 357, 392, 174, 69, 294, 183), (358, 393, 457, 393), (357, 400, 129), (456, 394, 394, 110, 468), (299, 148, 357), (299, 437), (219, 452, 477, 477, 319, 396, 121), (299, 299), (148, 400, 148, 400), (176, 212), (403, 403, 148, 148, 403, 148, 148, 148), (357, 457, 409), (251, 211, 409), (393, 148, 272), (294, 392, 121, 457), (392, 331, 470, 418), (272, 392, 361, 231, 231, 151), (129, 403, 120, 392, 457), (297, 272, 294)]\n"
     ]
    }
   ],
   "source": [
    "transactions = []\n",
    "key_ticket = -1\n",
    "for item in df_art_ticket.values:\n",
    "    if key_ticket != item[1]:\n",
    "        if key_ticket != -1:\n",
    "            transactions.append(tuple(l))\n",
    "        key_ticket = item[1]\n",
    "        if not key_ticket%int(nbr_ticket_max/10):\n",
    "            print(key_ticket*100/nbr_ticket_max,\"%\")\n",
    "        l = []\n",
    "    l.append(item[0])\n",
    "transactions.append(tuple(l))\n",
    "print(transactions[:20])"
   ]
  },
  {
   "cell_type": "code",
   "execution_count": 20,
   "id": "ec9c017e",
   "metadata": {},
   "outputs": [
    {
     "name": "stdout",
     "output_type": "stream",
     "text": [
      "20292100\n"
     ]
    }
   ],
   "source": [
    "univ_max = max(df_art_ticket[TABLE_ARTICLE + \".\"+TABLE_UNIVERS+\".KEY\"])\n",
    "rec_article = [0 for _ in range(univ_max)]\n",
    "N = len(transactions)\n",
    "for art in df_art_ticket[TABLE_ARTICLE + \".\"+TABLE_UNIVERS+\".KEY\"]:\n",
    "    rec_article[art-1]+=1\n",
    "for i in range(univ_max):\n",
    "    rec_article[i]/= N\n",
    "print(N)"
   ]
  },
  {
   "cell_type": "code",
   "execution_count": 21,
   "id": "1ffe4d57",
   "metadata": {
    "scrolled": false
   },
   "outputs": [
    {
     "data": {
      "image/png": "[encoded data removed]",
      "text/plain": [
       "<Figure size 1080x360 with 1 Axes>"
      ]
     },
     "metadata": {
      "needs_background": "light"
     },
     "output_type": "display_data"
    }
   ],
   "source": [
    "fig = plt.figure(figsize=(15, 5))\n",
    "plt.plot(rec_article)\n",
    "plt.title(\"Nombre d'article vendu par univers relatif au nombre de transactions\")\n",
    "    \n",
    "if save_fig:\n",
    "    plt.savefig(save_folder+\"/Proportion-Article.jpg\")\n",
    "plt.show()"
   ]
  },
  {
   "cell_type": "code",
   "execution_count": 22,
   "id": "77f259d1",
   "metadata": {},
   "outputs": [],
   "source": [
    "if do_analysis:\n",
    "    data_rules = {}\n",
    "    data_time  = {}\n",
    "    for i_support in range(sup_iter+1):\n",
    "        min_support = max_sup - i_support*(max_sup-min_sup)/sup_iter\n",
    "\n",
    "        if min_support <= 0:\n",
    "            break\n",
    "\n",
    "        print(min_support, end = ': ')\n",
    "\n",
    "        data_rules[min_support] = {}\n",
    "        data_time[min_support]  = {}\n",
    "        for i_confidence in range(conf_iter+1):\n",
    "            min_confidence = max_conf - i_confidence*(max_conf-min_conf)/conf_iter\n",
    "\n",
    "            print(min_confidence, end = '... ')\n",
    "\n",
    "            start = time()\n",
    "            _, rules = apriori(transactions, min_support=min_support, min_confidence=min_confidence)\n",
    "\n",
    "            data_rules[min_support][min_confidence] = len(rules)\n",
    "            data_time[min_support][min_confidence]  = int(time() - start)\n",
    "\n",
    "        print(sum(data_time[min_support].values()), \"secondes\")\n",
    "\n",
    "\n",
    "    df_rules = pd.DataFrame(data_rules)\n",
    "    print(df_rules)\n",
    "    df_time = pd.DataFrame(data_time)\n",
    "    print(df_time)"
   ]
  },
  {
   "cell_type": "code",
   "execution_count": 23,
   "id": "c7da8576",
   "metadata": {},
   "outputs": [
    {
     "name": "stdout",
     "output_type": "stream",
     "text": [
      "11\n",
      "{438} -> {299} (conf: 0.380, supp: 0.003, lift: 2.554, conv: 1.373)\n",
      "{437} -> {299} (conf: 0.388, supp: 0.020, lift: 2.605, conv: 1.390)\n",
      "{301} -> {299} (conf: 0.455, supp: 0.003, lift: 3.056, conv: 1.562)\n",
      "{439} -> {299} (conf: 0.481, supp: 0.014, lift: 3.229, conv: 1.639)\n",
      "{271} -> {272} (conf: 0.521, supp: 0.005, lift: 3.462, conv: 1.774)\n",
      "{74} -> {294} (conf: 0.368, supp: 0.007, lift: 3.855, conv: 1.431)\n",
      "{27} -> {294} (conf: 0.423, supp: 0.003, lift: 4.439, conv: 1.569)\n",
      "{437, 439} -> {299} (conf: 0.708, supp: 0.003, lift: 4.759, conv: 2.920)\n",
      "{448} -> {297} (conf: 0.961, supp: 0.005, lift: 8.749, conv: 22.735)\n",
      "{408} -> {402} (conf: 0.353, supp: 0.004, lift: 10.232, conv: 1.492)\n",
      "{56} -> {183} (conf: 0.341, supp: 0.002, lift: 12.512, conv: 1.477)\n",
      "Time Taken to run Apriori Algorithm : ~271secondes\n"
     ]
    }
   ],
   "source": [
    "start = time()\n",
    "\n",
    "_, rules = apriori(transactions, min_support=min_support, min_confidence=min_confidence)\n",
    "\n",
    "print(len(rules))\n",
    "for rule in sorted(rules, key=lambda rule: rule.lift):\n",
    "    print(rule)\n",
    "\n",
    "# eniviron 30s*0.002/min_sup * #transactions / 2.500.000     \n",
    "print(\"Time Taken to run Apriori Algorithm : ~\" + str(int(time() - start)) + \"secondes\") "
   ]
  },
  {
   "cell_type": "code",
   "execution_count": 24,
   "id": "08381028",
   "metadata": {},
   "outputs": [
    {
     "name": "stdout",
     "output_type": "stream",
     "text": [
      "\n",
      "\n",
      "Rule :  {438} -> {299} (conf: 0.380, supp: 0.003, lift: 2.554, conv: 1.373)\n",
      " Univ_KEY   Univ_1    Univ_2        Univ_3        Univ_4\n",
      "      438 BOISSONS JUS ZUMEX JUS ZUMEX >1P JUS ZUMEX >1P\n",
      "->\n",
      " Univ_KEY         Univ_1       Univ_2        Univ_3        Univ_4\n",
      "      299 PETIT DEJEUNER VIENNOISERIE VIENNOISERIES VIENNOISERIES\n",
      "\n",
      "\n",
      "Rule :  {437} -> {299} (conf: 0.388, supp: 0.020, lift: 2.605, conv: 1.390)\n",
      " Univ_KEY         Univ_1       Univ_2       Univ_3       Univ_4\n",
      "      437 PETIT DEJEUNER CAFE SERVICE CAFE SERVICE CAFE SERVICE\n",
      "->\n",
      " Univ_KEY         Univ_1       Univ_2        Univ_3        Univ_4\n",
      "      299 PETIT DEJEUNER VIENNOISERIE VIENNOISERIES VIENNOISERIES\n",
      "\n",
      "\n",
      "Rule :  {301} -> {299} (conf: 0.455, supp: 0.003, lift: 3.056, conv: 1.562)\n",
      " Univ_KEY         Univ_1            Univ_2           Univ_3           Univ_4\n",
      "      301 PETIT DEJEUNER PRODUITS LAITIERS LAITS CHOCOLATES LAITS CHOCOLATES\n",
      "->\n",
      " Univ_KEY         Univ_1       Univ_2        Univ_3        Univ_4\n",
      "      299 PETIT DEJEUNER VIENNOISERIE VIENNOISERIES VIENNOISERIES\n",
      "\n",
      "\n",
      "Rule :  {439} -> {299} (conf: 0.481, supp: 0.014, lift: 3.229, conv: 1.639)\n",
      " Univ_KEY   Univ_1    Univ_2       Univ_3       Univ_4\n",
      "      439 BOISSONS JUS ZUMEX JUS ZUMEX 1P JUS ZUMEX 1P\n",
      "->\n",
      " Univ_KEY         Univ_1       Univ_2        Univ_3        Univ_4\n",
      "      299 PETIT DEJEUNER VIENNOISERIE VIENNOISERIES VIENNOISERIES\n",
      "\n",
      "\n",
      "Rule :  {271} -> {272} (conf: 0.521, supp: 0.005, lift: 3.462, conv: 1.774)\n",
      " Univ_KEY          Univ_1             Univ_2             Univ_3             Univ_4\n",
      "      271 TABACS   PRESSE TABAC   ACCESSOIRE TABAC   ACCESSOIRE TABAC   ACCESSOIRE\n",
      "->\n",
      " Univ_KEY          Univ_1             Univ_2             Univ_3             Univ_4\n",
      "      272 TABACS   PRESSE TABAC   CIGARETTES TABAC   CIGARETTES TABAC   CIGARETTES\n",
      "\n",
      "\n",
      "Rule :  {74} -> {294} (conf: 0.368, supp: 0.007, lift: 3.855, conv: 1.431)\n",
      " Univ_KEY          Univ_1 Univ_2 Univ_3 Univ_4\n",
      "       74 PRET A CUISINER SPREAD SPREAD SPREAD\n",
      "->\n",
      " Univ_KEY         Univ_1                       Univ_2    Univ_3    Univ_4\n",
      "      294 PETIT DEJEUNER BOULANGERIE   PROD CROQUANTS BAGUETTES BAGUETTES\n",
      "\n",
      "\n",
      "Rule :  {27} -> {294} (conf: 0.423, supp: 0.003, lift: 4.439, conv: 1.569)\n",
      " Univ_KEY          Univ_1    Univ_2      Univ_3            Univ_4\n",
      "       27 PRET A CUISINER BOUCHERIE SPECIALITES AMERICAIN PREPARE\n",
      "->\n",
      " Univ_KEY         Univ_1                       Univ_2    Univ_3    Univ_4\n",
      "      294 PETIT DEJEUNER BOULANGERIE   PROD CROQUANTS BAGUETTES BAGUETTES\n",
      "\n",
      "\n",
      "Rule :  {437, 439} -> {299} (conf: 0.708, supp: 0.003, lift: 4.759, conv: 2.920)\n",
      " Univ_KEY         Univ_1       Univ_2       Univ_3       Univ_4\n",
      "      437 PETIT DEJEUNER CAFE SERVICE CAFE SERVICE CAFE SERVICE\n",
      "      439       BOISSONS    JUS ZUMEX JUS ZUMEX 1P JUS ZUMEX 1P\n",
      "->\n",
      " Univ_KEY         Univ_1       Univ_2        Univ_3        Univ_4\n",
      "      299 PETIT DEJEUNER VIENNOISERIE VIENNOISERIES VIENNOISERIES\n",
      "\n",
      "\n",
      "Rule :  {448} -> {297} (conf: 0.961, supp: 0.005, lift: 8.749, conv: 22.735)\n",
      " Univ_KEY   Univ_1         Univ_2                 Univ_3                 Univ_4\n",
      "      448 ECONOMAT ECONOMAT AUTRE FOURNITURE ET MATERIEL FOURNITURE ET MATERIEL\n",
      "->\n",
      " Univ_KEY         Univ_1                       Univ_2 Univ_3 Univ_4\n",
      "      297 PETIT DEJEUNER BOULANGERIE   PROD CROQUANTS  PAINS  PAINS\n",
      "\n",
      "\n",
      "Rule :  {408} -> {402} (conf: 0.353, supp: 0.004, lift: 10.232, conv: 1.492)\n",
      " Univ_KEY        Univ_1         Univ_2        Univ_3          Univ_4\n",
      "      408 PRET A MANGER PLATS PREPARES JAPANESE FOOD PLATS JAPONNAIS\n",
      "->\n",
      " Univ_KEY        Univ_1         Univ_2       Univ_3       Univ_4\n",
      "      402 PRET A MANGER PLATS PREPARES CHINESE FOOD CHINESE FOOD\n",
      "\n",
      "\n",
      "Rule :  {56} -> {183} (conf: 0.341, supp: 0.002, lift: 12.512, conv: 1.477)\n",
      " Univ_KEY          Univ_1  Univ_2     Univ_3     Univ_4\n",
      "       56 PRET A CUISINER FROMAGE MOZZARELLA MOZZARELLA\n",
      "->\n",
      " Univ_KEY           Univ_1  Univ_2         Univ_3 Univ_4\n",
      "      183 FRUITS   LEGUMES LEGUMES AUTRES LEGUMES FRUITS\n"
     ]
    }
   ],
   "source": [
    "conn = engine.connect()\n",
    "\n",
    "for rule in sorted(rules, key=lambda rule: rule.lift):\n",
    "    print(\"\\n\\nRule : \", rule)\n",
    "    \n",
    "    sql_command = '''SELECT [''' + TABLE_UNIVERS  + '''.KEY] AS Univ_KEY, \n",
    "    ['''  + TABLE_UNIVERS  + '''.Libelle_univers1_FR] AS Univ_1 \n",
    "    ,[''' + TABLE_UNIVERS  + '''.Libelle_univers2_FR] AS Univ_2 \n",
    "    ,[''' + TABLE_UNIVERS  + '''.Libelle_univers3_FR] AS Univ_3 \n",
    "    ,[''' + TABLE_UNIVERS  + '''.Libelle_univers4_FR] AS Univ_4 \n",
    "    FROM ['''+DB+'''].[DWH].[Dim_'''+TABLE_UNIVERS+''']\n",
    "    WHERE '''\n",
    "    for v in rule.lhs:\n",
    "        sql_command += \"[\" + TABLE_UNIVERS  + \".KEY] = \" + str(v) + \"\\nOR \"\n",
    "    sql_command = sql_command[:-3]\n",
    "\n",
    "    df_libele = pd.read_sql(sql_command, conn)\n",
    "    \n",
    "    print(df_libele.to_string(index=False))\n",
    "    print('->')\n",
    "    \n",
    "    sql_command = '''SELECT [''' + TABLE_UNIVERS  + '''.KEY] AS Univ_KEY, \n",
    "    ['''  + TABLE_UNIVERS  + '''.Libelle_univers1_FR] AS Univ_1 \n",
    "    ,[''' + TABLE_UNIVERS  + '''.Libelle_univers2_FR] AS Univ_2 \n",
    "    ,[''' + TABLE_UNIVERS  + '''.Libelle_univers3_FR] AS Univ_3 \n",
    "    ,[''' + TABLE_UNIVERS  + '''.Libelle_univers4_FR] AS Univ_4 \n",
    "    FROM ['''+DB+'''].[DWH].[Dim_'''+TABLE_UNIVERS+''']\n",
    "    WHERE '''\n",
    "    for v in rule.rhs:\n",
    "        sql_command += \"[\" + TABLE_UNIVERS  + \".KEY] = \" + str(v) + \"\\nOR \"\n",
    "    sql_command = sql_command[:-3]\n",
    "\n",
    "    df_libele = pd.read_sql(sql_command, conn)\n",
    "    \n",
    "    print(df_libele.to_string(index=False))\n",
    "\n",
    "conn.close()"
   ]
  },
  {
   "cell_type": "code",
   "execution_count": null,
   "id": "87defe84",
   "metadata": {},
   "outputs": [],
   "source": []
  },
  {
   "cell_type": "code",
   "execution_count": 25,
   "id": "af17bd1e",
   "metadata": {},
   "outputs": [
    {
     "name": "stdout",
     "output_type": "stream",
     "text": [
      "Total Time Taken: ~1437secondes\n"
     ]
    }
   ],
   "source": [
    "print(\"Total Time Taken: ~\" + str(int(time() - Very_Start)) + \"secondes\") "
   ]
  },
  {
   "cell_type": "code",
   "execution_count": null,
   "id": "6caf45ba",
   "metadata": {},
   "outputs": [],
   "source": []
  }
 ],
 "metadata": {
  "kernelspec": {
   "display_name": "Python 3 (ipykernel)",
   "language": "python",
   "name": "python3"
  },
  "language_info": {
   "codemirror_mode": {
    "name": "ipython",
    "version": 3
   },
   "file_extension": ".py",
   "mimetype": "text/x-python",
   "name": "python",
   "nbconvert_exporter": "python",
   "pygments_lexer": "ipython3",
   "version": "3.9.12"
  }
 },
 "nbformat": 4,
 "nbformat_minor": 5
}
